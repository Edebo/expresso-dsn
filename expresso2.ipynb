{
  "nbformat": 4,
  "nbformat_minor": 0,
  "metadata": {
    "colab": {
      "name": "expresso2.ipynb",
      "provenance": [],
      "collapsed_sections": [],
      "mount_file_id": "1zK0C27J_u7F2wbJM9q6T_QH2HPGg2l9M",
      "authorship_tag": "ABX9TyPtHb1I6Ixd25g+YiDeQlMw",
      "include_colab_link": true
    },
    "kernelspec": {
      "name": "python3",
      "display_name": "Python 3"
    }
  },
  "cells": [
    {
      "cell_type": "markdown",
      "metadata": {
        "id": "view-in-github",
        "colab_type": "text"
      },
      "source": [
        "<a href=\"https://colab.research.google.com/github/Edebo/expresso-dsn/blob/master/expresso2.ipynb\" target=\"_parent\"><img src=\"https://colab.research.google.com/assets/colab-badge.svg\" alt=\"Open In Colab\"/></a>"
      ]
    },
    {
      "cell_type": "code",
      "metadata": {
        "id": "zuVgfJK4rYXl",
        "colab_type": "code",
        "colab": {}
      },
      "source": [
        "import pandas as pd\n",
        "import matplotlib.pyplot as plt\n",
        "import numpy as np\n",
        "from sklearn.preprocessing import MinMaxScaler\n",
        "\n",
        "\n"
      ],
      "execution_count": 1,
      "outputs": []
    },
    {
      "cell_type": "code",
      "metadata": {
        "id": "j0cUAdpSDAKN",
        "colab_type": "code",
        "colab": {
          "base_uri": "https://localhost:8080/",
          "height": 326
        },
        "outputId": "5f782001-fc73-4c83-a50d-ed5212d388ca"
      },
      "source": [
        "train_url = \"https://raw.githubusercontent.com/Edebo/expresso-dsn/master/Train.csv\"\n",
        "\n",
        "train_data = pd.read_csv(train_url)\n",
        "\n",
        "train_data.head()"
      ],
      "execution_count": 2,
      "outputs": [
        {
          "output_type": "execute_result",
          "data": {
            "text/html": [
              "<div>\n",
              "<style scoped>\n",
              "    .dataframe tbody tr th:only-of-type {\n",
              "        vertical-align: middle;\n",
              "    }\n",
              "\n",
              "    .dataframe tbody tr th {\n",
              "        vertical-align: top;\n",
              "    }\n",
              "\n",
              "    .dataframe thead th {\n",
              "        text-align: right;\n",
              "    }\n",
              "</style>\n",
              "<table border=\"1\" class=\"dataframe\">\n",
              "  <thead>\n",
              "    <tr style=\"text-align: right;\">\n",
              "      <th></th>\n",
              "      <th>user_id</th>\n",
              "      <th>REGION</th>\n",
              "      <th>TENURE</th>\n",
              "      <th>MONTANT</th>\n",
              "      <th>FREQUENCE_RECH</th>\n",
              "      <th>REVENUE</th>\n",
              "      <th>ARPU_SEGMENT</th>\n",
              "      <th>FREQUENCE</th>\n",
              "      <th>DATA_VOLUME</th>\n",
              "      <th>ON_NET</th>\n",
              "      <th>ORANGE</th>\n",
              "      <th>TIGO</th>\n",
              "      <th>ZONE1</th>\n",
              "      <th>ZONE2</th>\n",
              "      <th>MRG</th>\n",
              "      <th>REGULARITY</th>\n",
              "      <th>TOP_PACK</th>\n",
              "      <th>FREQ_TOP_PACK</th>\n",
              "      <th>CHURN</th>\n",
              "    </tr>\n",
              "  </thead>\n",
              "  <tbody>\n",
              "    <tr>\n",
              "      <th>0</th>\n",
              "      <td>dcf68cc2fb515ccad7d8b9b3bd80ee2a4b270063</td>\n",
              "      <td>SAINT-LOUIS</td>\n",
              "      <td>K &gt; 24 month</td>\n",
              "      <td>17000.0</td>\n",
              "      <td>32.0</td>\n",
              "      <td>18000.0</td>\n",
              "      <td>6000.0</td>\n",
              "      <td>34.0</td>\n",
              "      <td>NaN</td>\n",
              "      <td>97.0</td>\n",
              "      <td>355.0</td>\n",
              "      <td>6.0</td>\n",
              "      <td>NaN</td>\n",
              "      <td>NaN</td>\n",
              "      <td>NO</td>\n",
              "      <td>62</td>\n",
              "      <td>All-net 500F=2000F;5d</td>\n",
              "      <td>35.0</td>\n",
              "      <td>0</td>\n",
              "    </tr>\n",
              "    <tr>\n",
              "      <th>1</th>\n",
              "      <td>71c44b5ba328db5c4192a80f7cf8f244d9350ed0</td>\n",
              "      <td>NaN</td>\n",
              "      <td>K &gt; 24 month</td>\n",
              "      <td>4300.0</td>\n",
              "      <td>29.0</td>\n",
              "      <td>4427.0</td>\n",
              "      <td>1476.0</td>\n",
              "      <td>37.0</td>\n",
              "      <td>1764.0</td>\n",
              "      <td>8.0</td>\n",
              "      <td>3.0</td>\n",
              "      <td>0.0</td>\n",
              "      <td>NaN</td>\n",
              "      <td>2.0</td>\n",
              "      <td>NO</td>\n",
              "      <td>40</td>\n",
              "      <td>Data: 100 F=40MB,24H</td>\n",
              "      <td>22.0</td>\n",
              "      <td>0</td>\n",
              "    </tr>\n",
              "    <tr>\n",
              "      <th>2</th>\n",
              "      <td>ce46411b1526c94f20a383b8cb188f8d27f82a0a</td>\n",
              "      <td>TAMBACOUNDA</td>\n",
              "      <td>K &gt; 24 month</td>\n",
              "      <td>1500.0</td>\n",
              "      <td>3.0</td>\n",
              "      <td>1500.0</td>\n",
              "      <td>500.0</td>\n",
              "      <td>3.0</td>\n",
              "      <td>NaN</td>\n",
              "      <td>30.0</td>\n",
              "      <td>30.0</td>\n",
              "      <td>NaN</td>\n",
              "      <td>NaN</td>\n",
              "      <td>NaN</td>\n",
              "      <td>NO</td>\n",
              "      <td>32</td>\n",
              "      <td>All-net 500F=2000F;5d</td>\n",
              "      <td>3.0</td>\n",
              "      <td>0</td>\n",
              "    </tr>\n",
              "    <tr>\n",
              "      <th>3</th>\n",
              "      <td>f467cdb6669818373c26c2bad44e01ba66f97d21</td>\n",
              "      <td>FATICK</td>\n",
              "      <td>K &gt; 24 month</td>\n",
              "      <td>1500.0</td>\n",
              "      <td>3.0</td>\n",
              "      <td>2497.0</td>\n",
              "      <td>832.0</td>\n",
              "      <td>4.0</td>\n",
              "      <td>0.0</td>\n",
              "      <td>159.0</td>\n",
              "      <td>45.0</td>\n",
              "      <td>19.0</td>\n",
              "      <td>NaN</td>\n",
              "      <td>NaN</td>\n",
              "      <td>NO</td>\n",
              "      <td>18</td>\n",
              "      <td>On net 200F=Unlimited _call24H</td>\n",
              "      <td>3.0</td>\n",
              "      <td>0</td>\n",
              "    </tr>\n",
              "    <tr>\n",
              "      <th>4</th>\n",
              "      <td>ec45e1a1888a32b5dcce0954cfec20c6e037db31</td>\n",
              "      <td>FATICK</td>\n",
              "      <td>K &gt; 24 month</td>\n",
              "      <td>NaN</td>\n",
              "      <td>NaN</td>\n",
              "      <td>498.0</td>\n",
              "      <td>166.0</td>\n",
              "      <td>3.0</td>\n",
              "      <td>1.0</td>\n",
              "      <td>1.0</td>\n",
              "      <td>3.0</td>\n",
              "      <td>NaN</td>\n",
              "      <td>NaN</td>\n",
              "      <td>NaN</td>\n",
              "      <td>NO</td>\n",
              "      <td>50</td>\n",
              "      <td>NaN</td>\n",
              "      <td>NaN</td>\n",
              "      <td>0</td>\n",
              "    </tr>\n",
              "  </tbody>\n",
              "</table>\n",
              "</div>"
            ],
            "text/plain": [
              "                                    user_id       REGION  ... FREQ_TOP_PACK  CHURN\n",
              "0  dcf68cc2fb515ccad7d8b9b3bd80ee2a4b270063  SAINT-LOUIS  ...          35.0      0\n",
              "1  71c44b5ba328db5c4192a80f7cf8f244d9350ed0          NaN  ...          22.0      0\n",
              "2  ce46411b1526c94f20a383b8cb188f8d27f82a0a  TAMBACOUNDA  ...           3.0      0\n",
              "3  f467cdb6669818373c26c2bad44e01ba66f97d21       FATICK  ...           3.0      0\n",
              "4  ec45e1a1888a32b5dcce0954cfec20c6e037db31       FATICK  ...           NaN      0\n",
              "\n",
              "[5 rows x 19 columns]"
            ]
          },
          "metadata": {
            "tags": []
          },
          "execution_count": 2
        }
      ]
    },
    {
      "cell_type": "code",
      "metadata": {
        "id": "t_00Q-hFDF0o",
        "colab_type": "code",
        "colab": {
          "base_uri": "https://localhost:8080/",
          "height": 459
        },
        "outputId": "c5ad2e9c-8bfe-43ab-81c2-804fe945b257"
      },
      "source": [
        "train_data.info()"
      ],
      "execution_count": 3,
      "outputs": [
        {
          "output_type": "stream",
          "text": [
            "<class 'pandas.core.frame.DataFrame'>\n",
            "RangeIndex: 400000 entries, 0 to 399999\n",
            "Data columns (total 19 columns):\n",
            " #   Column          Non-Null Count   Dtype  \n",
            "---  ------          --------------   -----  \n",
            " 0   user_id         400000 non-null  object \n",
            " 1   REGION          242480 non-null  object \n",
            " 2   TENURE          400000 non-null  object \n",
            " 3   MONTANT         259723 non-null  float64\n",
            " 4   FREQUENCE_RECH  259723 non-null  float64\n",
            " 5   REVENUE         265337 non-null  float64\n",
            " 6   ARPU_SEGMENT    265337 non-null  float64\n",
            " 7   FREQUENCE       265337 non-null  float64\n",
            " 8   DATA_VOLUME     203146 non-null  float64\n",
            " 9   ON_NET          254181 non-null  float64\n",
            " 10  ORANGE          233683 non-null  float64\n",
            " 11  TIGO            160614 non-null  float64\n",
            " 12  ZONE1           31690 non-null   float64\n",
            " 13  ZONE2           25513 non-null   float64\n",
            " 14  MRG             400000 non-null  object \n",
            " 15  REGULARITY      400000 non-null  int64  \n",
            " 16  TOP_PACK        232671 non-null  object \n",
            " 17  FREQ_TOP_PACK   232671 non-null  float64\n",
            " 18  CHURN           400000 non-null  int64  \n",
            "dtypes: float64(12), int64(2), object(5)\n",
            "memory usage: 58.0+ MB\n"
          ],
          "name": "stdout"
        }
      ]
    },
    {
      "cell_type": "code",
      "metadata": {
        "id": "v4mS07kwDdjL",
        "colab_type": "code",
        "colab": {
          "base_uri": "https://localhost:8080/",
          "height": 357
        },
        "outputId": "7e95092d-7433-42a4-e71e-cac43460def4"
      },
      "source": [
        "x= train_data.isnull().sum()\n",
        "x"
      ],
      "execution_count": 4,
      "outputs": [
        {
          "output_type": "execute_result",
          "data": {
            "text/plain": [
              "user_id                0\n",
              "REGION            157520\n",
              "TENURE                 0\n",
              "MONTANT           140277\n",
              "FREQUENCE_RECH    140277\n",
              "REVENUE           134663\n",
              "ARPU_SEGMENT      134663\n",
              "FREQUENCE         134663\n",
              "DATA_VOLUME       196854\n",
              "ON_NET            145819\n",
              "ORANGE            166317\n",
              "TIGO              239386\n",
              "ZONE1             368310\n",
              "ZONE2             374487\n",
              "MRG                    0\n",
              "REGULARITY             0\n",
              "TOP_PACK          167329\n",
              "FREQ_TOP_PACK     167329\n",
              "CHURN                  0\n",
              "dtype: int64"
            ]
          },
          "metadata": {
            "tags": []
          },
          "execution_count": 4
        }
      ]
    },
    {
      "cell_type": "code",
      "metadata": {
        "id": "r56eLy1mEb9T",
        "colab_type": "code",
        "colab": {
          "base_uri": "https://localhost:8080/",
          "height": 34
        },
        "outputId": "0482d6cb-2a47-4b20-8814-80b635a3207d"
      },
      "source": [
        "train=train_data.drop([\"ZONE1\",\"ZONE2\",\"MRG\"],axis=1)\n",
        "len(train)"
      ],
      "execution_count": 5,
      "outputs": [
        {
          "output_type": "execute_result",
          "data": {
            "text/plain": [
              "400000"
            ]
          },
          "metadata": {
            "tags": []
          },
          "execution_count": 5
        }
      ]
    },
    {
      "cell_type": "code",
      "metadata": {
        "id": "q0TIp683_nJK",
        "colab_type": "code",
        "colab": {}
      },
      "source": [
        "#train[\"REGION\"].dropna()\n",
        "#train = train[train['REGION'].notna()]"
      ],
      "execution_count": 9,
      "outputs": []
    },
    {
      "cell_type": "code",
      "metadata": {
        "id": "PIgLO4-aRHdy",
        "colab_type": "code",
        "colab": {}
      },
      "source": [
        ""
      ],
      "execution_count": 9,
      "outputs": []
    },
    {
      "cell_type": "code",
      "metadata": {
        "id": "38xYyCPdEPGc",
        "colab_type": "code",
        "colab": {
          "base_uri": "https://localhost:8080/",
          "height": 221
        },
        "outputId": "855a0eb6-ed73-4daa-ac17-fb38fdd198a1"
      },
      "source": [
        "\n",
        "ka=train[\"REGION\"][train[\"REGION\"].notnull()]\n",
        "train[\"REGION\"].fillna(ka.mode()[0],inplace=True)\n",
        "train.fillna(train[\"TIGO\"].mean(),inplace=True)\n",
        "train.fillna(train[\"DATA_VOLUME\"].mean(),inplace=True)\n",
        "train.fillna(train[\"ON_NET\"].mean(),inplace=True)\n",
        "train.fillna(train[\"ORANGE\"].mean(),inplace=True)\n",
        "train.fillna(train[\"TOP_PACK\"].mode(),inplace=True)\n",
        "train.fillna(train[\"FREQ_TOP_PACK\"].mean(),inplace=True)\n",
        "train.fillna(train[\"MONTANT\"].mean(),inplace=True)\n",
        "train.fillna(train[\"FREQUENCE_RECH\"].mean(),inplace=True)\n",
        "ka\n"
      ],
      "execution_count": 7,
      "outputs": [
        {
          "output_type": "execute_result",
          "data": {
            "text/plain": [
              "0         SAINT-LOUIS\n",
              "1               DAKAR\n",
              "2         TAMBACOUNDA\n",
              "3              FATICK\n",
              "4              FATICK\n",
              "             ...     \n",
              "399995    TAMBACOUNDA\n",
              "399996          DAKAR\n",
              "399997          DAKAR\n",
              "399998          DAKAR\n",
              "399999          DAKAR\n",
              "Name: REGION, Length: 400000, dtype: object"
            ]
          },
          "metadata": {
            "tags": []
          },
          "execution_count": 7
        }
      ]
    },
    {
      "cell_type": "code",
      "metadata": {
        "id": "NTJC9dprE2iI",
        "colab_type": "code",
        "colab": {
          "base_uri": "https://localhost:8080/",
          "height": 306
        },
        "outputId": "4915a20f-17f7-4382-cd94-ee556fb99736"
      },
      "source": [
        "train.isnull().sum()"
      ],
      "execution_count": 8,
      "outputs": [
        {
          "output_type": "execute_result",
          "data": {
            "text/plain": [
              "user_id           0\n",
              "REGION            0\n",
              "TENURE            0\n",
              "MONTANT           0\n",
              "FREQUENCE_RECH    0\n",
              "REVENUE           0\n",
              "ARPU_SEGMENT      0\n",
              "FREQUENCE         0\n",
              "DATA_VOLUME       0\n",
              "ON_NET            0\n",
              "ORANGE            0\n",
              "TIGO              0\n",
              "REGULARITY        0\n",
              "TOP_PACK          0\n",
              "FREQ_TOP_PACK     0\n",
              "CHURN             0\n",
              "dtype: int64"
            ]
          },
          "metadata": {
            "tags": []
          },
          "execution_count": 8
        }
      ]
    },
    {
      "cell_type": "code",
      "metadata": {
        "id": "DMQOnm66Em-W",
        "colab_type": "code",
        "colab": {
          "base_uri": "https://localhost:8080/",
          "height": 34
        },
        "outputId": "90fc0b01-b894-4fc2-86d5-f18e8139f9be"
      },
      "source": [
        "len(train)"
      ],
      "execution_count": 9,
      "outputs": [
        {
          "output_type": "execute_result",
          "data": {
            "text/plain": [
              "400000"
            ]
          },
          "metadata": {
            "tags": []
          },
          "execution_count": 9
        }
      ]
    },
    {
      "cell_type": "code",
      "metadata": {
        "id": "CwxJST2tJaCN",
        "colab_type": "code",
        "colab": {}
      },
      "source": [
        ""
      ],
      "execution_count": 12,
      "outputs": []
    },
    {
      "cell_type": "code",
      "metadata": {
        "id": "hj98swSKkxHW",
        "colab_type": "code",
        "colab": {
          "base_uri": "https://localhost:8080/",
          "height": 170
        },
        "outputId": "eee51c25-4cfd-41d2-bef9-64fdc68e703b"
      },
      "source": [
        "train[\"TENURE\"].value_counts()"
      ],
      "execution_count": 10,
      "outputs": [
        {
          "output_type": "execute_result",
          "data": {
            "text/plain": [
              "K > 24 month     379439\n",
              "I 18-21 month      8312\n",
              "H 15-18 month      4858\n",
              "G 12-15 month      2788\n",
              "J 21-24 month      2325\n",
              "F 9-12 month       1771\n",
              "E 6-9 month         359\n",
              "D 3-6 month         148\n",
              "Name: TENURE, dtype: int64"
            ]
          },
          "metadata": {
            "tags": []
          },
          "execution_count": 10
        }
      ]
    },
    {
      "cell_type": "code",
      "metadata": {
        "id": "fXnHQybkFSgU",
        "colab_type": "code",
        "colab": {
          "base_uri": "https://localhost:8080/",
          "height": 68
        },
        "outputId": "a0c15681-e3e2-4e4c-f256-3fbcdfaafbaf"
      },
      "source": [
        "train[\"TENURE\"].unique()"
      ],
      "execution_count": 11,
      "outputs": [
        {
          "output_type": "execute_result",
          "data": {
            "text/plain": [
              "array(['K > 24 month', 'H 15-18 month', 'G 12-15 month', 'J 21-24 month',\n",
              "       'I 18-21 month', 'E 6-9 month', 'F 9-12 month', 'D 3-6 month'],\n",
              "      dtype=object)"
            ]
          },
          "metadata": {
            "tags": []
          },
          "execution_count": 11
        }
      ]
    },
    {
      "cell_type": "code",
      "metadata": {
        "id": "5NA327SBnLtX",
        "colab_type": "code",
        "colab": {
          "base_uri": "https://localhost:8080/",
          "height": 170
        },
        "outputId": "081c14e6-6333-495c-f365-571e6c896683"
      },
      "source": [
        "from sklearn.preprocessing import LabelEncoder\n",
        "#converting tenure categorical to numerical\n",
        "tenure = LabelEncoder()\n",
        "train[\"TENURE\"] = tenure.fit_transform(train[\"TENURE\"])\n",
        "train[\"TENURE\"].value_counts()"
      ],
      "execution_count": 12,
      "outputs": [
        {
          "output_type": "execute_result",
          "data": {
            "text/plain": [
              "7    379439\n",
              "5      8312\n",
              "4      4858\n",
              "3      2788\n",
              "6      2325\n",
              "2      1771\n",
              "1       359\n",
              "0       148\n",
              "Name: TENURE, dtype: int64"
            ]
          },
          "metadata": {
            "tags": []
          },
          "execution_count": 12
        }
      ]
    },
    {
      "cell_type": "code",
      "metadata": {
        "id": "IGYwuUaFHWCM",
        "colab_type": "code",
        "colab": {
          "base_uri": "https://localhost:8080/",
          "height": 272
        },
        "outputId": "e0131132-4988-4bb5-cf2c-a37ee1823e6a"
      },
      "source": [
        "region = LabelEncoder()\n",
        "train[\"REGION\"] = region.fit_transform(train[\"REGION\"])\n",
        "train[\"REGION\"].value_counts()"
      ],
      "execution_count": 13,
      "outputs": [
        {
          "output_type": "execute_result",
          "data": {
            "text/plain": [
              "0     253037\n",
              "12     33374\n",
              "9      22125\n",
              "7      18513\n",
              "4      18042\n",
              "1      12576\n",
              "11     10273\n",
              "3       8181\n",
              "6       7204\n",
              "2       6638\n",
              "8       5255\n",
              "13      4012\n",
              "10       589\n",
              "5        181\n",
              "Name: REGION, dtype: int64"
            ]
          },
          "metadata": {
            "tags": []
          },
          "execution_count": 13
        }
      ]
    },
    {
      "cell_type": "code",
      "metadata": {
        "id": "N-7_HYHO2xMf",
        "colab_type": "code",
        "colab": {
          "base_uri": "https://localhost:8080/",
          "height": 221
        },
        "outputId": "56109d65-1257-4a0c-d24c-8c97ad46065c"
      },
      "source": [
        "top_pack = LabelEncoder()\n",
        "train[\"TOP_PACK\"] = top_pack.fit_transform(train[\"TOP_PACK\"].astype(str))\n",
        "train[\"TOP_PACK\"].value_counts()"
      ],
      "execution_count": 14,
      "outputs": [
        {
          "output_type": "execute_result",
          "data": {
            "text/plain": [
              "4      167329\n",
              "16      58675\n",
              "85      28387\n",
              "39      21661\n",
              "26      15590\n",
              "        ...  \n",
              "51          1\n",
              "45          1\n",
              "24          1\n",
              "19          1\n",
              "111         1\n",
              "Name: TOP_PACK, Length: 112, dtype: int64"
            ]
          },
          "metadata": {
            "tags": []
          },
          "execution_count": 14
        }
      ]
    },
    {
      "cell_type": "code",
      "metadata": {
        "id": "F9_IU5SyHjiZ",
        "colab_type": "code",
        "colab": {
          "base_uri": "https://localhost:8080/",
          "height": 224
        },
        "outputId": "5e832cca-877c-4351-d8f1-8c7d785cf611"
      },
      "source": [
        "train.head()"
      ],
      "execution_count": 16,
      "outputs": [
        {
          "output_type": "execute_result",
          "data": {
            "text/html": [
              "<div>\n",
              "<style scoped>\n",
              "    .dataframe tbody tr th:only-of-type {\n",
              "        vertical-align: middle;\n",
              "    }\n",
              "\n",
              "    .dataframe tbody tr th {\n",
              "        vertical-align: top;\n",
              "    }\n",
              "\n",
              "    .dataframe thead th {\n",
              "        text-align: right;\n",
              "    }\n",
              "</style>\n",
              "<table border=\"1\" class=\"dataframe\">\n",
              "  <thead>\n",
              "    <tr style=\"text-align: right;\">\n",
              "      <th></th>\n",
              "      <th>user_id</th>\n",
              "      <th>REGION</th>\n",
              "      <th>TENURE</th>\n",
              "      <th>MONTANT</th>\n",
              "      <th>FREQUENCE_RECH</th>\n",
              "      <th>REVENUE</th>\n",
              "      <th>ARPU_SEGMENT</th>\n",
              "      <th>FREQUENCE</th>\n",
              "      <th>DATA_VOLUME</th>\n",
              "      <th>ON_NET</th>\n",
              "      <th>ORANGE</th>\n",
              "      <th>TIGO</th>\n",
              "      <th>REGULARITY</th>\n",
              "      <th>TOP_PACK</th>\n",
              "      <th>FREQ_TOP_PACK</th>\n",
              "      <th>CHURN</th>\n",
              "    </tr>\n",
              "  </thead>\n",
              "  <tbody>\n",
              "    <tr>\n",
              "      <th>0</th>\n",
              "      <td>dcf68cc2fb515ccad7d8b9b3bd80ee2a4b270063</td>\n",
              "      <td>9</td>\n",
              "      <td>7</td>\n",
              "      <td>17000.000000</td>\n",
              "      <td>32.000000</td>\n",
              "      <td>18000.0</td>\n",
              "      <td>6000.0</td>\n",
              "      <td>34.0</td>\n",
              "      <td>23.134608</td>\n",
              "      <td>97.0</td>\n",
              "      <td>355.0</td>\n",
              "      <td>6.000000</td>\n",
              "      <td>62</td>\n",
              "      <td>16</td>\n",
              "      <td>35.000000</td>\n",
              "      <td>0</td>\n",
              "    </tr>\n",
              "    <tr>\n",
              "      <th>1</th>\n",
              "      <td>71c44b5ba328db5c4192a80f7cf8f244d9350ed0</td>\n",
              "      <td>0</td>\n",
              "      <td>7</td>\n",
              "      <td>4300.000000</td>\n",
              "      <td>29.000000</td>\n",
              "      <td>4427.0</td>\n",
              "      <td>1476.0</td>\n",
              "      <td>37.0</td>\n",
              "      <td>1764.000000</td>\n",
              "      <td>8.0</td>\n",
              "      <td>3.0</td>\n",
              "      <td>0.000000</td>\n",
              "      <td>40</td>\n",
              "      <td>26</td>\n",
              "      <td>22.000000</td>\n",
              "      <td>0</td>\n",
              "    </tr>\n",
              "    <tr>\n",
              "      <th>2</th>\n",
              "      <td>ce46411b1526c94f20a383b8cb188f8d27f82a0a</td>\n",
              "      <td>11</td>\n",
              "      <td>7</td>\n",
              "      <td>1500.000000</td>\n",
              "      <td>3.000000</td>\n",
              "      <td>1500.0</td>\n",
              "      <td>500.0</td>\n",
              "      <td>3.0</td>\n",
              "      <td>23.134608</td>\n",
              "      <td>30.0</td>\n",
              "      <td>30.0</td>\n",
              "      <td>23.134608</td>\n",
              "      <td>32</td>\n",
              "      <td>16</td>\n",
              "      <td>3.000000</td>\n",
              "      <td>0</td>\n",
              "    </tr>\n",
              "    <tr>\n",
              "      <th>3</th>\n",
              "      <td>f467cdb6669818373c26c2bad44e01ba66f97d21</td>\n",
              "      <td>2</td>\n",
              "      <td>7</td>\n",
              "      <td>1500.000000</td>\n",
              "      <td>3.000000</td>\n",
              "      <td>2497.0</td>\n",
              "      <td>832.0</td>\n",
              "      <td>4.0</td>\n",
              "      <td>0.000000</td>\n",
              "      <td>159.0</td>\n",
              "      <td>45.0</td>\n",
              "      <td>19.000000</td>\n",
              "      <td>18</td>\n",
              "      <td>85</td>\n",
              "      <td>3.000000</td>\n",
              "      <td>0</td>\n",
              "    </tr>\n",
              "    <tr>\n",
              "      <th>4</th>\n",
              "      <td>ec45e1a1888a32b5dcce0954cfec20c6e037db31</td>\n",
              "      <td>2</td>\n",
              "      <td>7</td>\n",
              "      <td>23.134608</td>\n",
              "      <td>23.134608</td>\n",
              "      <td>498.0</td>\n",
              "      <td>166.0</td>\n",
              "      <td>3.0</td>\n",
              "      <td>1.000000</td>\n",
              "      <td>1.0</td>\n",
              "      <td>3.0</td>\n",
              "      <td>23.134608</td>\n",
              "      <td>50</td>\n",
              "      <td>4</td>\n",
              "      <td>23.134608</td>\n",
              "      <td>0</td>\n",
              "    </tr>\n",
              "  </tbody>\n",
              "</table>\n",
              "</div>"
            ],
            "text/plain": [
              "                                    user_id  REGION  ...  FREQ_TOP_PACK  CHURN\n",
              "0  dcf68cc2fb515ccad7d8b9b3bd80ee2a4b270063       9  ...      35.000000      0\n",
              "1  71c44b5ba328db5c4192a80f7cf8f244d9350ed0       0  ...      22.000000      0\n",
              "2  ce46411b1526c94f20a383b8cb188f8d27f82a0a      11  ...       3.000000      0\n",
              "3  f467cdb6669818373c26c2bad44e01ba66f97d21       2  ...       3.000000      0\n",
              "4  ec45e1a1888a32b5dcce0954cfec20c6e037db31       2  ...      23.134608      0\n",
              "\n",
              "[5 rows x 16 columns]"
            ]
          },
          "metadata": {
            "tags": []
          },
          "execution_count": 16
        }
      ]
    },
    {
      "cell_type": "code",
      "metadata": {
        "id": "1lPh6x3sIf8q",
        "colab_type": "code",
        "colab": {
          "base_uri": "https://localhost:8080/",
          "height": 439
        },
        "outputId": "6d0d63fc-5b53-4054-c623-0565b275fc01"
      },
      "source": [
        "data = train.drop([\"user_id\"],axis=1)\n",
        "data.reset_index(drop=True, inplace=True)\n",
        "data"
      ],
      "execution_count": 17,
      "outputs": [
        {
          "output_type": "execute_result",
          "data": {
            "text/html": [
              "<div>\n",
              "<style scoped>\n",
              "    .dataframe tbody tr th:only-of-type {\n",
              "        vertical-align: middle;\n",
              "    }\n",
              "\n",
              "    .dataframe tbody tr th {\n",
              "        vertical-align: top;\n",
              "    }\n",
              "\n",
              "    .dataframe thead th {\n",
              "        text-align: right;\n",
              "    }\n",
              "</style>\n",
              "<table border=\"1\" class=\"dataframe\">\n",
              "  <thead>\n",
              "    <tr style=\"text-align: right;\">\n",
              "      <th></th>\n",
              "      <th>REGION</th>\n",
              "      <th>TENURE</th>\n",
              "      <th>MONTANT</th>\n",
              "      <th>FREQUENCE_RECH</th>\n",
              "      <th>REVENUE</th>\n",
              "      <th>ARPU_SEGMENT</th>\n",
              "      <th>FREQUENCE</th>\n",
              "      <th>DATA_VOLUME</th>\n",
              "      <th>ON_NET</th>\n",
              "      <th>ORANGE</th>\n",
              "      <th>TIGO</th>\n",
              "      <th>REGULARITY</th>\n",
              "      <th>TOP_PACK</th>\n",
              "      <th>FREQ_TOP_PACK</th>\n",
              "      <th>CHURN</th>\n",
              "    </tr>\n",
              "  </thead>\n",
              "  <tbody>\n",
              "    <tr>\n",
              "      <th>0</th>\n",
              "      <td>9</td>\n",
              "      <td>7</td>\n",
              "      <td>17000.000000</td>\n",
              "      <td>32.000000</td>\n",
              "      <td>18000.000000</td>\n",
              "      <td>6000.000000</td>\n",
              "      <td>34.000000</td>\n",
              "      <td>23.134608</td>\n",
              "      <td>97.000000</td>\n",
              "      <td>355.000000</td>\n",
              "      <td>6.000000</td>\n",
              "      <td>62</td>\n",
              "      <td>16</td>\n",
              "      <td>35.000000</td>\n",
              "      <td>0</td>\n",
              "    </tr>\n",
              "    <tr>\n",
              "      <th>1</th>\n",
              "      <td>0</td>\n",
              "      <td>7</td>\n",
              "      <td>4300.000000</td>\n",
              "      <td>29.000000</td>\n",
              "      <td>4427.000000</td>\n",
              "      <td>1476.000000</td>\n",
              "      <td>37.000000</td>\n",
              "      <td>1764.000000</td>\n",
              "      <td>8.000000</td>\n",
              "      <td>3.000000</td>\n",
              "      <td>0.000000</td>\n",
              "      <td>40</td>\n",
              "      <td>26</td>\n",
              "      <td>22.000000</td>\n",
              "      <td>0</td>\n",
              "    </tr>\n",
              "    <tr>\n",
              "      <th>2</th>\n",
              "      <td>11</td>\n",
              "      <td>7</td>\n",
              "      <td>1500.000000</td>\n",
              "      <td>3.000000</td>\n",
              "      <td>1500.000000</td>\n",
              "      <td>500.000000</td>\n",
              "      <td>3.000000</td>\n",
              "      <td>23.134608</td>\n",
              "      <td>30.000000</td>\n",
              "      <td>30.000000</td>\n",
              "      <td>23.134608</td>\n",
              "      <td>32</td>\n",
              "      <td>16</td>\n",
              "      <td>3.000000</td>\n",
              "      <td>0</td>\n",
              "    </tr>\n",
              "    <tr>\n",
              "      <th>3</th>\n",
              "      <td>2</td>\n",
              "      <td>7</td>\n",
              "      <td>1500.000000</td>\n",
              "      <td>3.000000</td>\n",
              "      <td>2497.000000</td>\n",
              "      <td>832.000000</td>\n",
              "      <td>4.000000</td>\n",
              "      <td>0.000000</td>\n",
              "      <td>159.000000</td>\n",
              "      <td>45.000000</td>\n",
              "      <td>19.000000</td>\n",
              "      <td>18</td>\n",
              "      <td>85</td>\n",
              "      <td>3.000000</td>\n",
              "      <td>0</td>\n",
              "    </tr>\n",
              "    <tr>\n",
              "      <th>4</th>\n",
              "      <td>2</td>\n",
              "      <td>7</td>\n",
              "      <td>23.134608</td>\n",
              "      <td>23.134608</td>\n",
              "      <td>498.000000</td>\n",
              "      <td>166.000000</td>\n",
              "      <td>3.000000</td>\n",
              "      <td>1.000000</td>\n",
              "      <td>1.000000</td>\n",
              "      <td>3.000000</td>\n",
              "      <td>23.134608</td>\n",
              "      <td>50</td>\n",
              "      <td>4</td>\n",
              "      <td>23.134608</td>\n",
              "      <td>0</td>\n",
              "    </tr>\n",
              "    <tr>\n",
              "      <th>...</th>\n",
              "      <td>...</td>\n",
              "      <td>...</td>\n",
              "      <td>...</td>\n",
              "      <td>...</td>\n",
              "      <td>...</td>\n",
              "      <td>...</td>\n",
              "      <td>...</td>\n",
              "      <td>...</td>\n",
              "      <td>...</td>\n",
              "      <td>...</td>\n",
              "      <td>...</td>\n",
              "      <td>...</td>\n",
              "      <td>...</td>\n",
              "      <td>...</td>\n",
              "      <td>...</td>\n",
              "    </tr>\n",
              "    <tr>\n",
              "      <th>399995</th>\n",
              "      <td>11</td>\n",
              "      <td>7</td>\n",
              "      <td>700.000000</td>\n",
              "      <td>2.000000</td>\n",
              "      <td>704.000000</td>\n",
              "      <td>235.000000</td>\n",
              "      <td>3.000000</td>\n",
              "      <td>23.134608</td>\n",
              "      <td>12.000000</td>\n",
              "      <td>14.000000</td>\n",
              "      <td>23.134608</td>\n",
              "      <td>46</td>\n",
              "      <td>16</td>\n",
              "      <td>1.000000</td>\n",
              "      <td>0</td>\n",
              "    </tr>\n",
              "    <tr>\n",
              "      <th>399996</th>\n",
              "      <td>0</td>\n",
              "      <td>7</td>\n",
              "      <td>23.134608</td>\n",
              "      <td>23.134608</td>\n",
              "      <td>23.134608</td>\n",
              "      <td>23.134608</td>\n",
              "      <td>23.134608</td>\n",
              "      <td>23.134608</td>\n",
              "      <td>23.134608</td>\n",
              "      <td>23.134608</td>\n",
              "      <td>23.134608</td>\n",
              "      <td>14</td>\n",
              "      <td>4</td>\n",
              "      <td>23.134608</td>\n",
              "      <td>0</td>\n",
              "    </tr>\n",
              "    <tr>\n",
              "      <th>399997</th>\n",
              "      <td>0</td>\n",
              "      <td>7</td>\n",
              "      <td>700.000000</td>\n",
              "      <td>2.000000</td>\n",
              "      <td>699.000000</td>\n",
              "      <td>233.000000</td>\n",
              "      <td>5.000000</td>\n",
              "      <td>237.000000</td>\n",
              "      <td>1.000000</td>\n",
              "      <td>23.134608</td>\n",
              "      <td>23.134608</td>\n",
              "      <td>15</td>\n",
              "      <td>26</td>\n",
              "      <td>3.000000</td>\n",
              "      <td>0</td>\n",
              "    </tr>\n",
              "    <tr>\n",
              "      <th>399998</th>\n",
              "      <td>0</td>\n",
              "      <td>7</td>\n",
              "      <td>23.134608</td>\n",
              "      <td>23.134608</td>\n",
              "      <td>9.000000</td>\n",
              "      <td>3.000000</td>\n",
              "      <td>1.000000</td>\n",
              "      <td>0.000000</td>\n",
              "      <td>23.134608</td>\n",
              "      <td>0.000000</td>\n",
              "      <td>23.134608</td>\n",
              "      <td>5</td>\n",
              "      <td>4</td>\n",
              "      <td>23.134608</td>\n",
              "      <td>1</td>\n",
              "    </tr>\n",
              "    <tr>\n",
              "      <th>399999</th>\n",
              "      <td>0</td>\n",
              "      <td>7</td>\n",
              "      <td>23.134608</td>\n",
              "      <td>23.134608</td>\n",
              "      <td>23.134608</td>\n",
              "      <td>23.134608</td>\n",
              "      <td>23.134608</td>\n",
              "      <td>23.134608</td>\n",
              "      <td>23.134608</td>\n",
              "      <td>23.134608</td>\n",
              "      <td>23.134608</td>\n",
              "      <td>1</td>\n",
              "      <td>4</td>\n",
              "      <td>23.134608</td>\n",
              "      <td>0</td>\n",
              "    </tr>\n",
              "  </tbody>\n",
              "</table>\n",
              "<p>400000 rows × 15 columns</p>\n",
              "</div>"
            ],
            "text/plain": [
              "        REGION  TENURE       MONTANT  ...  TOP_PACK  FREQ_TOP_PACK  CHURN\n",
              "0            9       7  17000.000000  ...        16      35.000000      0\n",
              "1            0       7   4300.000000  ...        26      22.000000      0\n",
              "2           11       7   1500.000000  ...        16       3.000000      0\n",
              "3            2       7   1500.000000  ...        85       3.000000      0\n",
              "4            2       7     23.134608  ...         4      23.134608      0\n",
              "...        ...     ...           ...  ...       ...            ...    ...\n",
              "399995      11       7    700.000000  ...        16       1.000000      0\n",
              "399996       0       7     23.134608  ...         4      23.134608      0\n",
              "399997       0       7    700.000000  ...        26       3.000000      0\n",
              "399998       0       7     23.134608  ...         4      23.134608      1\n",
              "399999       0       7     23.134608  ...         4      23.134608      0\n",
              "\n",
              "[400000 rows x 15 columns]"
            ]
          },
          "metadata": {
            "tags": []
          },
          "execution_count": 17
        }
      ]
    },
    {
      "cell_type": "code",
      "metadata": {
        "id": "1HHtaAkbN7r4",
        "colab_type": "code",
        "colab": {
          "base_uri": "https://localhost:8080/",
          "height": 68
        },
        "outputId": "a0d7f7df-4efa-439b-ac24-94bde755a6a9"
      },
      "source": [
        "data_feature = data.drop([\"CHURN\"],axis=1) \n",
        "target= data[\"CHURN\"]\n",
        "target.value_counts()"
      ],
      "execution_count": 18,
      "outputs": [
        {
          "output_type": "execute_result",
          "data": {
            "text/plain": [
              "0    325156\n",
              "1     74844\n",
              "Name: CHURN, dtype: int64"
            ]
          },
          "metadata": {
            "tags": []
          },
          "execution_count": 18
        }
      ]
    },
    {
      "cell_type": "code",
      "metadata": {
        "id": "mmAD0YaMOD3U",
        "colab_type": "code",
        "colab": {
          "base_uri": "https://localhost:8080/",
          "height": 71
        },
        "outputId": "f705596f-eff8-4bae-eecc-6f7fad32d120"
      },
      "source": [
        "# Seaborn visualization library\n",
        "import seaborn as sns\n",
        "#sns.pairplot(train)"
      ],
      "execution_count": 21,
      "outputs": [
        {
          "output_type": "stream",
          "text": [
            "/usr/local/lib/python3.6/dist-packages/statsmodels/tools/_testing.py:19: FutureWarning: pandas.util.testing is deprecated. Use the functions in the public API at pandas.testing instead.\n",
            "  import pandas.util.testing as tm\n"
          ],
          "name": "stderr"
        }
      ]
    },
    {
      "cell_type": "code",
      "metadata": {
        "id": "lHKOnnapO_fw",
        "colab_type": "code",
        "colab": {
          "base_uri": "https://localhost:8080/",
          "height": 439
        },
        "outputId": "40ab09c5-0775-4589-ce30-273849886270"
      },
      "source": [
        "categorical = data[[\"REGION\",\"TENURE\",\"TOP_PACK\"]]\n",
        "numerical = data.drop([\"REGION\",\"TENURE\",\"TOP_PACK\",\"CHURN\"],axis=1)\n",
        "data_feature = data.drop([\"CHURN\"],axis=1)\n",
        "data_feature"
      ],
      "execution_count": 19,
      "outputs": [
        {
          "output_type": "execute_result",
          "data": {
            "text/html": [
              "<div>\n",
              "<style scoped>\n",
              "    .dataframe tbody tr th:only-of-type {\n",
              "        vertical-align: middle;\n",
              "    }\n",
              "\n",
              "    .dataframe tbody tr th {\n",
              "        vertical-align: top;\n",
              "    }\n",
              "\n",
              "    .dataframe thead th {\n",
              "        text-align: right;\n",
              "    }\n",
              "</style>\n",
              "<table border=\"1\" class=\"dataframe\">\n",
              "  <thead>\n",
              "    <tr style=\"text-align: right;\">\n",
              "      <th></th>\n",
              "      <th>REGION</th>\n",
              "      <th>TENURE</th>\n",
              "      <th>MONTANT</th>\n",
              "      <th>FREQUENCE_RECH</th>\n",
              "      <th>REVENUE</th>\n",
              "      <th>ARPU_SEGMENT</th>\n",
              "      <th>FREQUENCE</th>\n",
              "      <th>DATA_VOLUME</th>\n",
              "      <th>ON_NET</th>\n",
              "      <th>ORANGE</th>\n",
              "      <th>TIGO</th>\n",
              "      <th>REGULARITY</th>\n",
              "      <th>TOP_PACK</th>\n",
              "      <th>FREQ_TOP_PACK</th>\n",
              "    </tr>\n",
              "  </thead>\n",
              "  <tbody>\n",
              "    <tr>\n",
              "      <th>0</th>\n",
              "      <td>9</td>\n",
              "      <td>7</td>\n",
              "      <td>17000.000000</td>\n",
              "      <td>32.000000</td>\n",
              "      <td>18000.000000</td>\n",
              "      <td>6000.000000</td>\n",
              "      <td>34.000000</td>\n",
              "      <td>23.134608</td>\n",
              "      <td>97.000000</td>\n",
              "      <td>355.000000</td>\n",
              "      <td>6.000000</td>\n",
              "      <td>62</td>\n",
              "      <td>16</td>\n",
              "      <td>35.000000</td>\n",
              "    </tr>\n",
              "    <tr>\n",
              "      <th>1</th>\n",
              "      <td>0</td>\n",
              "      <td>7</td>\n",
              "      <td>4300.000000</td>\n",
              "      <td>29.000000</td>\n",
              "      <td>4427.000000</td>\n",
              "      <td>1476.000000</td>\n",
              "      <td>37.000000</td>\n",
              "      <td>1764.000000</td>\n",
              "      <td>8.000000</td>\n",
              "      <td>3.000000</td>\n",
              "      <td>0.000000</td>\n",
              "      <td>40</td>\n",
              "      <td>26</td>\n",
              "      <td>22.000000</td>\n",
              "    </tr>\n",
              "    <tr>\n",
              "      <th>2</th>\n",
              "      <td>11</td>\n",
              "      <td>7</td>\n",
              "      <td>1500.000000</td>\n",
              "      <td>3.000000</td>\n",
              "      <td>1500.000000</td>\n",
              "      <td>500.000000</td>\n",
              "      <td>3.000000</td>\n",
              "      <td>23.134608</td>\n",
              "      <td>30.000000</td>\n",
              "      <td>30.000000</td>\n",
              "      <td>23.134608</td>\n",
              "      <td>32</td>\n",
              "      <td>16</td>\n",
              "      <td>3.000000</td>\n",
              "    </tr>\n",
              "    <tr>\n",
              "      <th>3</th>\n",
              "      <td>2</td>\n",
              "      <td>7</td>\n",
              "      <td>1500.000000</td>\n",
              "      <td>3.000000</td>\n",
              "      <td>2497.000000</td>\n",
              "      <td>832.000000</td>\n",
              "      <td>4.000000</td>\n",
              "      <td>0.000000</td>\n",
              "      <td>159.000000</td>\n",
              "      <td>45.000000</td>\n",
              "      <td>19.000000</td>\n",
              "      <td>18</td>\n",
              "      <td>85</td>\n",
              "      <td>3.000000</td>\n",
              "    </tr>\n",
              "    <tr>\n",
              "      <th>4</th>\n",
              "      <td>2</td>\n",
              "      <td>7</td>\n",
              "      <td>23.134608</td>\n",
              "      <td>23.134608</td>\n",
              "      <td>498.000000</td>\n",
              "      <td>166.000000</td>\n",
              "      <td>3.000000</td>\n",
              "      <td>1.000000</td>\n",
              "      <td>1.000000</td>\n",
              "      <td>3.000000</td>\n",
              "      <td>23.134608</td>\n",
              "      <td>50</td>\n",
              "      <td>4</td>\n",
              "      <td>23.134608</td>\n",
              "    </tr>\n",
              "    <tr>\n",
              "      <th>...</th>\n",
              "      <td>...</td>\n",
              "      <td>...</td>\n",
              "      <td>...</td>\n",
              "      <td>...</td>\n",
              "      <td>...</td>\n",
              "      <td>...</td>\n",
              "      <td>...</td>\n",
              "      <td>...</td>\n",
              "      <td>...</td>\n",
              "      <td>...</td>\n",
              "      <td>...</td>\n",
              "      <td>...</td>\n",
              "      <td>...</td>\n",
              "      <td>...</td>\n",
              "    </tr>\n",
              "    <tr>\n",
              "      <th>399995</th>\n",
              "      <td>11</td>\n",
              "      <td>7</td>\n",
              "      <td>700.000000</td>\n",
              "      <td>2.000000</td>\n",
              "      <td>704.000000</td>\n",
              "      <td>235.000000</td>\n",
              "      <td>3.000000</td>\n",
              "      <td>23.134608</td>\n",
              "      <td>12.000000</td>\n",
              "      <td>14.000000</td>\n",
              "      <td>23.134608</td>\n",
              "      <td>46</td>\n",
              "      <td>16</td>\n",
              "      <td>1.000000</td>\n",
              "    </tr>\n",
              "    <tr>\n",
              "      <th>399996</th>\n",
              "      <td>0</td>\n",
              "      <td>7</td>\n",
              "      <td>23.134608</td>\n",
              "      <td>23.134608</td>\n",
              "      <td>23.134608</td>\n",
              "      <td>23.134608</td>\n",
              "      <td>23.134608</td>\n",
              "      <td>23.134608</td>\n",
              "      <td>23.134608</td>\n",
              "      <td>23.134608</td>\n",
              "      <td>23.134608</td>\n",
              "      <td>14</td>\n",
              "      <td>4</td>\n",
              "      <td>23.134608</td>\n",
              "    </tr>\n",
              "    <tr>\n",
              "      <th>399997</th>\n",
              "      <td>0</td>\n",
              "      <td>7</td>\n",
              "      <td>700.000000</td>\n",
              "      <td>2.000000</td>\n",
              "      <td>699.000000</td>\n",
              "      <td>233.000000</td>\n",
              "      <td>5.000000</td>\n",
              "      <td>237.000000</td>\n",
              "      <td>1.000000</td>\n",
              "      <td>23.134608</td>\n",
              "      <td>23.134608</td>\n",
              "      <td>15</td>\n",
              "      <td>26</td>\n",
              "      <td>3.000000</td>\n",
              "    </tr>\n",
              "    <tr>\n",
              "      <th>399998</th>\n",
              "      <td>0</td>\n",
              "      <td>7</td>\n",
              "      <td>23.134608</td>\n",
              "      <td>23.134608</td>\n",
              "      <td>9.000000</td>\n",
              "      <td>3.000000</td>\n",
              "      <td>1.000000</td>\n",
              "      <td>0.000000</td>\n",
              "      <td>23.134608</td>\n",
              "      <td>0.000000</td>\n",
              "      <td>23.134608</td>\n",
              "      <td>5</td>\n",
              "      <td>4</td>\n",
              "      <td>23.134608</td>\n",
              "    </tr>\n",
              "    <tr>\n",
              "      <th>399999</th>\n",
              "      <td>0</td>\n",
              "      <td>7</td>\n",
              "      <td>23.134608</td>\n",
              "      <td>23.134608</td>\n",
              "      <td>23.134608</td>\n",
              "      <td>23.134608</td>\n",
              "      <td>23.134608</td>\n",
              "      <td>23.134608</td>\n",
              "      <td>23.134608</td>\n",
              "      <td>23.134608</td>\n",
              "      <td>23.134608</td>\n",
              "      <td>1</td>\n",
              "      <td>4</td>\n",
              "      <td>23.134608</td>\n",
              "    </tr>\n",
              "  </tbody>\n",
              "</table>\n",
              "<p>400000 rows × 14 columns</p>\n",
              "</div>"
            ],
            "text/plain": [
              "        REGION  TENURE       MONTANT  ...  REGULARITY  TOP_PACK  FREQ_TOP_PACK\n",
              "0            9       7  17000.000000  ...          62        16      35.000000\n",
              "1            0       7   4300.000000  ...          40        26      22.000000\n",
              "2           11       7   1500.000000  ...          32        16       3.000000\n",
              "3            2       7   1500.000000  ...          18        85       3.000000\n",
              "4            2       7     23.134608  ...          50         4      23.134608\n",
              "...        ...     ...           ...  ...         ...       ...            ...\n",
              "399995      11       7    700.000000  ...          46        16       1.000000\n",
              "399996       0       7     23.134608  ...          14         4      23.134608\n",
              "399997       0       7    700.000000  ...          15        26       3.000000\n",
              "399998       0       7     23.134608  ...           5         4      23.134608\n",
              "399999       0       7     23.134608  ...           1         4      23.134608\n",
              "\n",
              "[400000 rows x 14 columns]"
            ]
          },
          "metadata": {
            "tags": []
          },
          "execution_count": 19
        }
      ]
    },
    {
      "cell_type": "code",
      "metadata": {
        "id": "3U_RWRTVPHDr",
        "colab_type": "code",
        "colab": {}
      },
      "source": [
        "from sklearn.preprocessing import MinMaxScaler\n",
        "scaler = MinMaxScaler()\n",
        "feature = scaler.fit_transform(numerical)\n",
        "feature = pd.DataFrame(feature, columns=numerical.columns)\n",
        "feature[\"REGION\"] = categorical[\"REGION\"]\n",
        "feature[\"TENURE\"] = categorical[\"TENURE\"]\n",
        "feature[\"TOP_PACK\"] = categorical[\"REGION\"]"
      ],
      "execution_count": 20,
      "outputs": []
    },
    {
      "cell_type": "code",
      "metadata": {
        "id": "gInH84knfDRm",
        "colab_type": "code",
        "colab": {
          "base_uri": "https://localhost:8080/",
          "height": 34
        },
        "outputId": "9285de23-789f-4be3-ee29-feeb3cd31850"
      },
      "source": [
        "len(feature)"
      ],
      "execution_count": 21,
      "outputs": [
        {
          "output_type": "execute_result",
          "data": {
            "text/plain": [
              "400000"
            ]
          },
          "metadata": {
            "tags": []
          },
          "execution_count": 21
        }
      ]
    },
    {
      "cell_type": "code",
      "metadata": {
        "id": "5f8Xiodsp_tg",
        "colab_type": "code",
        "colab": {
          "base_uri": "https://localhost:8080/",
          "height": 85
        },
        "outputId": "742ca22a-2df0-44b0-b838-3abf0ef2605e"
      },
      "source": [
        "feature.columns"
      ],
      "execution_count": 22,
      "outputs": [
        {
          "output_type": "execute_result",
          "data": {
            "text/plain": [
              "Index(['MONTANT', 'FREQUENCE_RECH', 'REVENUE', 'ARPU_SEGMENT', 'FREQUENCE',\n",
              "       'DATA_VOLUME', 'ON_NET', 'ORANGE', 'TIGO', 'REGULARITY',\n",
              "       'FREQ_TOP_PACK', 'REGION', 'TENURE', 'TOP_PACK'],\n",
              "      dtype='object')"
            ]
          },
          "metadata": {
            "tags": []
          },
          "execution_count": 22
        }
      ]
    },
    {
      "cell_type": "markdown",
      "metadata": {
        "id": "xaMI1XV7qrLa",
        "colab_type": "text"
      },
      "source": [
        ""
      ]
    },
    {
      "cell_type": "markdown",
      "metadata": {
        "id": "Qq7PTPYgqh5E",
        "colab_type": "text"
      },
      "source": [
        "#Logistic Regression\n",
        "#k-Nearest Neighbors\n",
        "#Support Vector Machine\n",
        "#SDG\n",
        "#RandomForestClassifier"
      ]
    },
    {
      "cell_type": "code",
      "metadata": {
        "id": "BGrkL5ooQGAe",
        "colab_type": "code",
        "colab": {}
      },
      "source": [
        "from sklearn.model_selection import cross_val_score\n",
        "from sklearn.metrics import confusion_matrix\n",
        "from sklearn.metrics import precision_score, recall_score\n",
        "from sklearn.model_selection import cross_val_predict\n",
        "\n"
      ],
      "execution_count": 23,
      "outputs": []
    },
    {
      "cell_type": "code",
      "metadata": {
        "id": "b5Fem4vCkELS",
        "colab_type": "code",
        "colab": {}
      },
      "source": [
        "from sklearn.model_selection import train_test_split\n",
        "\n",
        "X_train, X_test, y_train, y_test = train_test_split(feature, target,test_size=0.2, random_state=42,stratify=target)\n"
      ],
      "execution_count": 24,
      "outputs": []
    },
    {
      "cell_type": "markdown",
      "metadata": {
        "id": "XKyy2afw8oX5",
        "colab_type": "text"
      },
      "source": [
        "##**Logistic regression**"
      ]
    },
    {
      "cell_type": "code",
      "metadata": {
        "id": "IuwsLio5rSGU",
        "colab_type": "code",
        "colab": {
          "base_uri": "https://localhost:8080/",
          "height": 34
        },
        "outputId": "713a80c9-651b-40ce-f19d-d1b3db685a99"
      },
      "source": [
        "#Logistic regression\n",
        "from sklearn.linear_model import LogisticRegression\n",
        "logreg = LogisticRegression(max_iter = 10000,random_state=42)\n",
        "log_score =cross_val_score(logreg, feature,target, cv=5, scoring=\"accuracy\")\n",
        "\n",
        "#print(\"Accuracy: {} ,std:{}\".format(log_score.mean(),log_score.std()))\n",
        "log_score\n"
      ],
      "execution_count": 25,
      "outputs": [
        {
          "output_type": "execute_result",
          "data": {
            "text/plain": [
              "array([0.86585  , 0.8642875, 0.86235  , 0.8632375, 0.8656375])"
            ]
          },
          "metadata": {
            "tags": []
          },
          "execution_count": 25
        }
      ]
    },
    {
      "cell_type": "code",
      "metadata": {
        "id": "O2zMBWglkTDr",
        "colab_type": "code",
        "colab": {
          "base_uri": "https://localhost:8080/",
          "height": 102
        },
        "outputId": "85291c7d-6ab0-4d6c-a4c4-3c6a75c7a183"
      },
      "source": [
        "logreg.fit(feature,target)"
      ],
      "execution_count": 26,
      "outputs": [
        {
          "output_type": "execute_result",
          "data": {
            "text/plain": [
              "LogisticRegression(C=1.0, class_weight=None, dual=False, fit_intercept=True,\n",
              "                   intercept_scaling=1, l1_ratio=None, max_iter=10000,\n",
              "                   multi_class='auto', n_jobs=None, penalty='l2',\n",
              "                   random_state=42, solver='lbfgs', tol=0.0001, verbose=0,\n",
              "                   warm_start=False)"
            ]
          },
          "metadata": {
            "tags": []
          },
          "execution_count": 26
        }
      ]
    },
    {
      "cell_type": "code",
      "metadata": {
        "id": "W_8wlbk0wqjq",
        "colab_type": "code",
        "colab": {
          "base_uri": "https://localhost:8080/",
          "height": 51
        },
        "outputId": "2630c7f4-087f-45c1-b55c-fc9f1adcb771"
      },
      "source": [
        "log_pred = cross_val_predict(logreg,feature, target, cv=5)\n",
        "log_pred\n",
        "\n",
        "conf_mat = confusion_matrix(target, log_pred)\n",
        "conf_mat\n"
      ],
      "execution_count": 27,
      "outputs": [
        {
          "output_type": "execute_result",
          "data": {
            "text/plain": [
              "array([[296025,  29131],\n",
              "       [ 25160,  49684]])"
            ]
          },
          "metadata": {
            "tags": []
          },
          "execution_count": 27
        }
      ]
    },
    {
      "cell_type": "code",
      "metadata": {
        "id": "kvJK981l3cD-",
        "colab_type": "code",
        "colab": {
          "base_uri": "https://localhost:8080/",
          "height": 34
        },
        "outputId": "83b317ba-aa0c-4155-e142-a0db5673e332"
      },
      "source": [
        "precision_score(target, log_pred)"
      ],
      "execution_count": 35,
      "outputs": [
        {
          "output_type": "execute_result",
          "data": {
            "text/plain": [
              "0.6303876165704498"
            ]
          },
          "metadata": {
            "tags": []
          },
          "execution_count": 35
        }
      ]
    },
    {
      "cell_type": "code",
      "metadata": {
        "id": "FUYGFZJZ3qwN",
        "colab_type": "code",
        "colab": {
          "base_uri": "https://localhost:8080/",
          "height": 34
        },
        "outputId": "8330aacd-518f-4dd6-d70e-42603ac0707f"
      },
      "source": [
        "recall_score(target,log_pred)"
      ],
      "execution_count": 29,
      "outputs": [
        {
          "output_type": "execute_result",
          "data": {
            "text/plain": [
              "0.6638341082785527"
            ]
          },
          "metadata": {
            "tags": []
          },
          "execution_count": 29
        }
      ]
    },
    {
      "cell_type": "code",
      "metadata": {
        "id": "K6CpVnBv7FDR",
        "colab_type": "code",
        "colab": {
          "base_uri": "https://localhost:8080/",
          "height": 34
        },
        "outputId": "2192af33-dd69-42c8-9729-be39c2e10561"
      },
      "source": [
        "from sklearn.metrics import f1_score\n",
        "\n",
        "f1_score(target,log_pred)"
      ],
      "execution_count": 30,
      "outputs": [
        {
          "output_type": "execute_result",
          "data": {
            "text/plain": [
              "0.6466786846198401"
            ]
          },
          "metadata": {
            "tags": []
          },
          "execution_count": 30
        }
      ]
    },
    {
      "cell_type": "markdown",
      "metadata": {
        "id": "dyh7Y8Yf8w00",
        "colab_type": "text"
      },
      "source": [
        "##**k-Nearest Neigbour**"
      ]
    },
    {
      "cell_type": "code",
      "metadata": {
        "id": "Qu1YWZrb86Bj",
        "colab_type": "code",
        "colab": {
          "base_uri": "https://localhost:8080/",
          "height": 34
        },
        "outputId": "7528ad4f-0fdc-4329-c09e-309e9e8ab623"
      },
      "source": [
        "#knearestneighbor\n",
        "from sklearn.neighbors import KNeighborsClassifier\n",
        "\n",
        "knn = KNeighborsClassifier(n_neighbors=3)\n",
        "\n",
        "knn_score =cross_val_score(knn, feature,target, cv=5, scoring=\"accuracy\")\n",
        "\n",
        "print(\"Accuracy: {} ,std:{}\".format(log_score.mean(),log_score.std()))\n",
        "\n"
      ],
      "execution_count": 32,
      "outputs": [
        {
          "output_type": "stream",
          "text": [
            "Accuracy: 0.8642724999999999 ,std:0.001350495279517859\n"
          ],
          "name": "stdout"
        }
      ]
    },
    {
      "cell_type": "code",
      "metadata": {
        "id": "VhSYwVLMIr7M",
        "colab_type": "code",
        "colab": {
          "base_uri": "https://localhost:8080/",
          "height": 68
        },
        "outputId": "9b89550e-36ef-4659-efbf-2f01b16e4be8"
      },
      "source": [
        "knn.fit(feature,target)"
      ],
      "execution_count": 33,
      "outputs": [
        {
          "output_type": "execute_result",
          "data": {
            "text/plain": [
              "KNeighborsClassifier(algorithm='auto', leaf_size=30, metric='minkowski',\n",
              "                     metric_params=None, n_jobs=None, n_neighbors=3, p=2,\n",
              "                     weights='uniform')"
            ]
          },
          "metadata": {
            "tags": []
          },
          "execution_count": 33
        }
      ]
    },
    {
      "cell_type": "code",
      "metadata": {
        "id": "Qd4kTLYfAnth",
        "colab_type": "code",
        "colab": {
          "base_uri": "https://localhost:8080/",
          "height": 51
        },
        "outputId": "e26e2a40-d12c-49a1-990f-ecf77a5fed4f"
      },
      "source": [
        "knn_pred = cross_val_predict(logreg,feature, target, cv=5)\n",
        "knn_pred\n",
        "\n",
        "conf_mat = confusion_matrix(target, knn_pred)\n",
        "conf_mat\n"
      ],
      "execution_count": 34,
      "outputs": [
        {
          "output_type": "execute_result",
          "data": {
            "text/plain": [
              "array([[296025,  29131],\n",
              "       [ 25160,  49684]])"
            ]
          },
          "metadata": {
            "tags": []
          },
          "execution_count": 34
        }
      ]
    },
    {
      "cell_type": "code",
      "metadata": {
        "id": "wsoEHF2fAtVD",
        "colab_type": "code",
        "colab": {
          "base_uri": "https://localhost:8080/",
          "height": 34
        },
        "outputId": "d83ae676-763b-4dc1-976a-a5b99edcf0f1"
      },
      "source": [
        "precision_score(target, knn_pred)"
      ],
      "execution_count": 36,
      "outputs": [
        {
          "output_type": "execute_result",
          "data": {
            "text/plain": [
              "0.6303876165704498"
            ]
          },
          "metadata": {
            "tags": []
          },
          "execution_count": 36
        }
      ]
    },
    {
      "cell_type": "code",
      "metadata": {
        "id": "WA8Qe_aCAxAq",
        "colab_type": "code",
        "colab": {
          "base_uri": "https://localhost:8080/",
          "height": 34
        },
        "outputId": "2e8584aa-bf56-4cdc-e336-4d8ace18a713"
      },
      "source": [
        "recall_score(target,knn_pred)"
      ],
      "execution_count": 37,
      "outputs": [
        {
          "output_type": "execute_result",
          "data": {
            "text/plain": [
              "0.6638341082785527"
            ]
          },
          "metadata": {
            "tags": []
          },
          "execution_count": 37
        }
      ]
    },
    {
      "cell_type": "code",
      "metadata": {
        "id": "QFAGWlpWA3jm",
        "colab_type": "code",
        "colab": {
          "base_uri": "https://localhost:8080/",
          "height": 34
        },
        "outputId": "e1e6eed1-a665-4bb7-9832-707512e0359b"
      },
      "source": [
        "from sklearn.metrics import f1_score\n",
        "\n",
        "f1_score(target,knn_pred)"
      ],
      "execution_count": 38,
      "outputs": [
        {
          "output_type": "execute_result",
          "data": {
            "text/plain": [
              "0.6466786846198401"
            ]
          },
          "metadata": {
            "tags": []
          },
          "execution_count": 38
        }
      ]
    },
    {
      "cell_type": "markdown",
      "metadata": {
        "id": "UxTSyO5CBPlu",
        "colab_type": "text"
      },
      "source": [
        ""
      ]
    },
    {
      "cell_type": "markdown",
      "metadata": {
        "colab_type": "text",
        "id": "9fQdJE8LBRDv"
      },
      "source": [
        "##**SDG**\n"
      ]
    },
    {
      "cell_type": "code",
      "metadata": {
        "id": "V1uxHSqxBXyQ",
        "colab_type": "code",
        "colab": {}
      },
      "source": [
        "#sdg \n",
        "from sklearn.linear_model import SGDClassifier\n",
        "sgd = SGDClassifier(random_state=42)\n",
        "\n",
        "\n",
        "\n",
        "\n",
        "\n",
        "\n"
      ],
      "execution_count": 42,
      "outputs": []
    },
    {
      "cell_type": "code",
      "metadata": {
        "id": "oGo6K0MfUNlq",
        "colab_type": "code",
        "colab": {
          "base_uri": "https://localhost:8080/",
          "height": 34
        },
        "outputId": "16222c18-955b-4b50-d846-073ac1a20b5e"
      },
      "source": [
        "sgd_score =cross_val_score(sgd, feature,target, cv=5, scoring=\"accuracy\")\n",
        "\n",
        "print(\"Accuracy: {} ,std:{}\".format(sgd_score.mean(),sgd_score.std()))"
      ],
      "execution_count": 43,
      "outputs": [
        {
          "output_type": "stream",
          "text": [
            "Accuracy: 0.855495 ,std:0.0064118279374917615\n"
          ],
          "name": "stdout"
        }
      ]
    },
    {
      "cell_type": "code",
      "metadata": {
        "id": "GRq6zaftU4YP",
        "colab_type": "code",
        "colab": {
          "base_uri": "https://localhost:8080/",
          "height": 119
        },
        "outputId": "d65eeeb8-817f-4142-8203-808f82db6519"
      },
      "source": [
        "sgd.fit(feature,target)"
      ],
      "execution_count": 44,
      "outputs": [
        {
          "output_type": "execute_result",
          "data": {
            "text/plain": [
              "SGDClassifier(alpha=0.0001, average=False, class_weight=None,\n",
              "              early_stopping=False, epsilon=0.1, eta0=0.0, fit_intercept=True,\n",
              "              l1_ratio=0.15, learning_rate='optimal', loss='hinge',\n",
              "              max_iter=1000, n_iter_no_change=5, n_jobs=None, penalty='l2',\n",
              "              power_t=0.5, random_state=42, shuffle=True, tol=0.001,\n",
              "              validation_fraction=0.1, verbose=0, warm_start=False)"
            ]
          },
          "metadata": {
            "tags": []
          },
          "execution_count": 44
        }
      ]
    },
    {
      "cell_type": "code",
      "metadata": {
        "id": "ynps15QrCVbO",
        "colab_type": "code",
        "colab": {
          "base_uri": "https://localhost:8080/",
          "height": 51
        },
        "outputId": "53075317-5791-4088-e47e-cdec39cdab51"
      },
      "source": [
        "sgd_pred = cross_val_predict(sgd,feature, target, cv=5)\n",
        "\n",
        "conf_mat = confusion_matrix(target, sgd_pred)\n",
        "conf_mat\n"
      ],
      "execution_count": 45,
      "outputs": [
        {
          "output_type": "execute_result",
          "data": {
            "text/plain": [
              "array([[288234,  36922],\n",
              "       [ 20880,  53964]])"
            ]
          },
          "metadata": {
            "tags": []
          },
          "execution_count": 45
        }
      ]
    },
    {
      "cell_type": "code",
      "metadata": {
        "id": "JJSJOTyPC3z8",
        "colab_type": "code",
        "colab": {
          "base_uri": "https://localhost:8080/",
          "height": 34
        },
        "outputId": "066c707b-6bf7-4106-a955-d3932325ddb0"
      },
      "source": [
        "precision_score(target, sgd_pred)"
      ],
      "execution_count": 46,
      "outputs": [
        {
          "output_type": "execute_result",
          "data": {
            "text/plain": [
              "0.5937548137226856"
            ]
          },
          "metadata": {
            "tags": []
          },
          "execution_count": 46
        }
      ]
    },
    {
      "cell_type": "code",
      "metadata": {
        "id": "W9KCFPgvC86G",
        "colab_type": "code",
        "colab": {
          "base_uri": "https://localhost:8080/",
          "height": 34
        },
        "outputId": "7bc7b20e-23dd-44bc-ccb7-ee697242ca76"
      },
      "source": [
        "recall_score(target,sgd_pred)"
      ],
      "execution_count": 47,
      "outputs": [
        {
          "output_type": "execute_result",
          "data": {
            "text/plain": [
              "0.721019721019721"
            ]
          },
          "metadata": {
            "tags": []
          },
          "execution_count": 47
        }
      ]
    },
    {
      "cell_type": "code",
      "metadata": {
        "id": "XMGLeKH3DH5u",
        "colab_type": "code",
        "colab": {
          "base_uri": "https://localhost:8080/",
          "height": 34
        },
        "outputId": "0b209155-1137-40bf-c03f-2a02c4ba6682"
      },
      "source": [
        "from sklearn.metrics import f1_score\n",
        "\n",
        "f1_score(target,sgd_pred)"
      ],
      "execution_count": 48,
      "outputs": [
        {
          "output_type": "execute_result",
          "data": {
            "text/plain": [
              "0.65122790080251"
            ]
          },
          "metadata": {
            "tags": []
          },
          "execution_count": 48
        }
      ]
    },
    {
      "cell_type": "markdown",
      "metadata": {
        "id": "ut23JC9ADZof",
        "colab_type": "text"
      },
      "source": [
        "#RandomForest Classifier"
      ]
    },
    {
      "cell_type": "code",
      "metadata": {
        "id": "6SjFFc2iDeCk",
        "colab_type": "code",
        "colab": {
          "base_uri": "https://localhost:8080/",
          "height": 34
        },
        "outputId": "aa0e7bfd-fa17-4e8e-b27d-c166f669ef83"
      },
      "source": [
        "#Randoforestclassifier\n",
        "from sklearn.ensemble import RandomForestClassifier\n",
        "\n",
        "rfc = RandomForestClassifier(n_estimators = 100,random_state=42)\n",
        "rfc_score =cross_val_score(rfc, feature,target, cv=5, scoring=\"accuracy\")\n",
        "\n",
        "print(\"Accuracy: {} ,std:{}\".format(rfc_score.mean(),rfc_score.std()))"
      ],
      "execution_count": 49,
      "outputs": [
        {
          "output_type": "stream",
          "text": [
            "Accuracy: 0.8678325000000001 ,std:0.001719422141302131\n"
          ],
          "name": "stdout"
        }
      ]
    },
    {
      "cell_type": "code",
      "metadata": {
        "id": "hyfpn_sMWDXx",
        "colab_type": "code",
        "colab": {
          "base_uri": "https://localhost:8080/",
          "height": 153
        },
        "outputId": "fb1a8320-5efb-4a2f-ede9-99df75e96fa5"
      },
      "source": [
        "rfc.fit(feature,target)"
      ],
      "execution_count": 50,
      "outputs": [
        {
          "output_type": "execute_result",
          "data": {
            "text/plain": [
              "RandomForestClassifier(bootstrap=True, ccp_alpha=0.0, class_weight=None,\n",
              "                       criterion='gini', max_depth=None, max_features='auto',\n",
              "                       max_leaf_nodes=None, max_samples=None,\n",
              "                       min_impurity_decrease=0.0, min_impurity_split=None,\n",
              "                       min_samples_leaf=1, min_samples_split=2,\n",
              "                       min_weight_fraction_leaf=0.0, n_estimators=100,\n",
              "                       n_jobs=None, oob_score=False, random_state=42, verbose=0,\n",
              "                       warm_start=False)"
            ]
          },
          "metadata": {
            "tags": []
          },
          "execution_count": 50
        }
      ]
    },
    {
      "cell_type": "code",
      "metadata": {
        "id": "h04tgdmrKx3C",
        "colab_type": "code",
        "colab": {
          "base_uri": "https://localhost:8080/",
          "height": 51
        },
        "outputId": "8c877407-1599-4dd5-f007-f0e90e04628f"
      },
      "source": [
        "rfc_pred = cross_val_predict(rfc,feature, target, cv=5)\n",
        "\n",
        "conf_mat = confusion_matrix(target, rfc_pred)\n",
        "conf_mat "
      ],
      "execution_count": 51,
      "outputs": [
        {
          "output_type": "execute_result",
          "data": {
            "text/plain": [
              "array([[301172,  23984],\n",
              "       [ 28883,  45961]])"
            ]
          },
          "metadata": {
            "tags": []
          },
          "execution_count": 51
        }
      ]
    },
    {
      "cell_type": "code",
      "metadata": {
        "id": "G4XFMe-ZQEM-",
        "colab_type": "code",
        "colab": {
          "base_uri": "https://localhost:8080/",
          "height": 34
        },
        "outputId": "826c1393-d397-49e7-bf2c-de0f8235e867"
      },
      "source": [
        "precision_score(target, rfc_pred)"
      ],
      "execution_count": 52,
      "outputs": [
        {
          "output_type": "execute_result",
          "data": {
            "text/plain": [
              "0.657102008721138"
            ]
          },
          "metadata": {
            "tags": []
          },
          "execution_count": 52
        }
      ]
    },
    {
      "cell_type": "code",
      "metadata": {
        "id": "_3zJVNw8QFPq",
        "colab_type": "code",
        "colab": {
          "base_uri": "https://localhost:8080/",
          "height": 34
        },
        "outputId": "60b2c45d-8388-4298-adad-66d38a830d1d"
      },
      "source": [
        "recall_score(target,rfc_pred)"
      ],
      "execution_count": 53,
      "outputs": [
        {
          "output_type": "execute_result",
          "data": {
            "text/plain": [
              "0.6140906418684197"
            ]
          },
          "metadata": {
            "tags": []
          },
          "execution_count": 53
        }
      ]
    },
    {
      "cell_type": "code",
      "metadata": {
        "id": "FX0ja4F-QNSy",
        "colab_type": "code",
        "colab": {
          "base_uri": "https://localhost:8080/",
          "height": 34
        },
        "outputId": "da28caad-10f1-4b68-d7d3-256cbe653f44"
      },
      "source": [
        "from sklearn.metrics import f1_score\n",
        "\n",
        "f1_score(target,rfc_pred)"
      ],
      "execution_count": 54,
      "outputs": [
        {
          "output_type": "execute_result",
          "data": {
            "text/plain": [
              "0.6348686709625732"
            ]
          },
          "metadata": {
            "tags": []
          },
          "execution_count": 54
        }
      ]
    },
    {
      "cell_type": "markdown",
      "metadata": {
        "id": "xC6_pKq1UT7W",
        "colab_type": "text"
      },
      "source": [
        "# ROC Area under curve"
      ]
    },
    {
      "cell_type": "code",
      "metadata": {
        "id": "hmx1E-tZUS0q",
        "colab_type": "code",
        "colab": {
          "base_uri": "https://localhost:8080/",
          "height": 34
        },
        "outputId": "58287a35-502f-4766-bce6-82ba87ec5f4e"
      },
      "source": [
        "from sklearn.metrics import roc_auc_score\n",
        "\n",
        "#logistic regression\n",
        "log_auc =roc_auc_score(target, log_pred)\n",
        "\n",
        "#knn\n",
        "knn_auc =roc_auc_score(target, knn_pred)\n",
        "\n",
        "# sgd\n",
        "sgd_auc =roc_auc_score(target,sgd_pred)\n",
        "\n",
        "#randomforest\n",
        "\n",
        "rfc_auc =roc_auc_score(target,rfc_pred)\n",
        "\n",
        "print(log_auc,knn_auc,sgd_auc,rfc_auc)\n"
      ],
      "execution_count": 55,
      "outputs": [
        {
          "output_type": "stream",
          "text": [
            "0.7871216328645653 0.7871216328645653 0.8037340359825567 0.77016456215996\n"
          ],
          "name": "stdout"
        }
      ]
    },
    {
      "cell_type": "markdown",
      "metadata": {
        "id": "3BvUupF1ZVH6",
        "colab_type": "text"
      },
      "source": [
        "SGD has more accuracy than the rest.SO SGD will be used for the predicting the test"
      ]
    },
    {
      "cell_type": "code",
      "metadata": {
        "id": "4aD2vhnwX5be",
        "colab_type": "code",
        "colab": {
          "base_uri": "https://localhost:8080/",
          "height": 309
        },
        "outputId": "4f44083e-7dde-4521-9c0a-66183a74efc3"
      },
      "source": [
        "test =pd.read_csv(\"https://raw.githubusercontent.com/Edebo/expresso-dsn/master/Test.csv\")\n",
        "test.head()"
      ],
      "execution_count": 56,
      "outputs": [
        {
          "output_type": "execute_result",
          "data": {
            "text/html": [
              "<div>\n",
              "<style scoped>\n",
              "    .dataframe tbody tr th:only-of-type {\n",
              "        vertical-align: middle;\n",
              "    }\n",
              "\n",
              "    .dataframe tbody tr th {\n",
              "        vertical-align: top;\n",
              "    }\n",
              "\n",
              "    .dataframe thead th {\n",
              "        text-align: right;\n",
              "    }\n",
              "</style>\n",
              "<table border=\"1\" class=\"dataframe\">\n",
              "  <thead>\n",
              "    <tr style=\"text-align: right;\">\n",
              "      <th></th>\n",
              "      <th>user_id</th>\n",
              "      <th>REGION</th>\n",
              "      <th>TENURE</th>\n",
              "      <th>MONTANT</th>\n",
              "      <th>FREQUENCE_RECH</th>\n",
              "      <th>REVENUE</th>\n",
              "      <th>ARPU_SEGMENT</th>\n",
              "      <th>FREQUENCE</th>\n",
              "      <th>DATA_VOLUME</th>\n",
              "      <th>ON_NET</th>\n",
              "      <th>ORANGE</th>\n",
              "      <th>TIGO</th>\n",
              "      <th>ZONE1</th>\n",
              "      <th>ZONE2</th>\n",
              "      <th>MRG</th>\n",
              "      <th>REGULARITY</th>\n",
              "      <th>TOP_PACK</th>\n",
              "      <th>FREQ_TOP_PACK</th>\n",
              "    </tr>\n",
              "  </thead>\n",
              "  <tbody>\n",
              "    <tr>\n",
              "      <th>0</th>\n",
              "      <td>af900d87e73b7ff6509d2203df4704a98aa5f2a6</td>\n",
              "      <td>NaN</td>\n",
              "      <td>K &gt; 24 month</td>\n",
              "      <td>NaN</td>\n",
              "      <td>NaN</td>\n",
              "      <td>NaN</td>\n",
              "      <td>NaN</td>\n",
              "      <td>NaN</td>\n",
              "      <td>NaN</td>\n",
              "      <td>NaN</td>\n",
              "      <td>NaN</td>\n",
              "      <td>NaN</td>\n",
              "      <td>NaN</td>\n",
              "      <td>NaN</td>\n",
              "      <td>NO</td>\n",
              "      <td>1</td>\n",
              "      <td>NaN</td>\n",
              "      <td>NaN</td>\n",
              "    </tr>\n",
              "    <tr>\n",
              "      <th>1</th>\n",
              "      <td>5335efd940280b82143272275637d1e65d37eadb</td>\n",
              "      <td>NaN</td>\n",
              "      <td>K &gt; 24 month</td>\n",
              "      <td>NaN</td>\n",
              "      <td>NaN</td>\n",
              "      <td>10.0</td>\n",
              "      <td>3.0</td>\n",
              "      <td>1.0</td>\n",
              "      <td>NaN</td>\n",
              "      <td>NaN</td>\n",
              "      <td>NaN</td>\n",
              "      <td>NaN</td>\n",
              "      <td>NaN</td>\n",
              "      <td>NaN</td>\n",
              "      <td>NO</td>\n",
              "      <td>2</td>\n",
              "      <td>NaN</td>\n",
              "      <td>NaN</td>\n",
              "    </tr>\n",
              "    <tr>\n",
              "      <th>2</th>\n",
              "      <td>a581f4fa08677c26f83f643248c667e241043086</td>\n",
              "      <td>NaN</td>\n",
              "      <td>K &gt; 24 month</td>\n",
              "      <td>1900.0</td>\n",
              "      <td>15.0</td>\n",
              "      <td>2299.0</td>\n",
              "      <td>766.0</td>\n",
              "      <td>21.0</td>\n",
              "      <td>414.0</td>\n",
              "      <td>NaN</td>\n",
              "      <td>7.0</td>\n",
              "      <td>2.0</td>\n",
              "      <td>NaN</td>\n",
              "      <td>NaN</td>\n",
              "      <td>NO</td>\n",
              "      <td>27</td>\n",
              "      <td>Data: 100 F=40MB,24H</td>\n",
              "      <td>17.0</td>\n",
              "    </tr>\n",
              "    <tr>\n",
              "      <th>3</th>\n",
              "      <td>64f67177d0775262b8087a9e2e3b8061b6324ae6</td>\n",
              "      <td>DAKAR</td>\n",
              "      <td>K &gt; 24 month</td>\n",
              "      <td>3000.0</td>\n",
              "      <td>9.0</td>\n",
              "      <td>2603.0</td>\n",
              "      <td>868.0</td>\n",
              "      <td>14.0</td>\n",
              "      <td>332.0</td>\n",
              "      <td>0.0</td>\n",
              "      <td>23.0</td>\n",
              "      <td>4.0</td>\n",
              "      <td>NaN</td>\n",
              "      <td>NaN</td>\n",
              "      <td>NO</td>\n",
              "      <td>46</td>\n",
              "      <td>IVR Echat_Daily_50F</td>\n",
              "      <td>3.0</td>\n",
              "    </tr>\n",
              "    <tr>\n",
              "      <th>4</th>\n",
              "      <td>0d6009a4594c4be22449b8d9cc01a0bcea98faea</td>\n",
              "      <td>DAKAR</td>\n",
              "      <td>K &gt; 24 month</td>\n",
              "      <td>32000.0</td>\n",
              "      <td>47.0</td>\n",
              "      <td>33000.0</td>\n",
              "      <td>11000.0</td>\n",
              "      <td>47.0</td>\n",
              "      <td>NaN</td>\n",
              "      <td>128.0</td>\n",
              "      <td>555.0</td>\n",
              "      <td>280.0</td>\n",
              "      <td>NaN</td>\n",
              "      <td>NaN</td>\n",
              "      <td>NO</td>\n",
              "      <td>61</td>\n",
              "      <td>All-net 500F=2000F;5d</td>\n",
              "      <td>65.0</td>\n",
              "    </tr>\n",
              "  </tbody>\n",
              "</table>\n",
              "</div>"
            ],
            "text/plain": [
              "                                    user_id  ... FREQ_TOP_PACK\n",
              "0  af900d87e73b7ff6509d2203df4704a98aa5f2a6  ...           NaN\n",
              "1  5335efd940280b82143272275637d1e65d37eadb  ...           NaN\n",
              "2  a581f4fa08677c26f83f643248c667e241043086  ...          17.0\n",
              "3  64f67177d0775262b8087a9e2e3b8061b6324ae6  ...           3.0\n",
              "4  0d6009a4594c4be22449b8d9cc01a0bcea98faea  ...          65.0\n",
              "\n",
              "[5 rows x 18 columns]"
            ]
          },
          "metadata": {
            "tags": []
          },
          "execution_count": 56
        }
      ]
    },
    {
      "cell_type": "code",
      "metadata": {
        "id": "WjmCKLQkYpAW",
        "colab_type": "code",
        "colab": {
          "base_uri": "https://localhost:8080/",
          "height": 34
        },
        "outputId": "038c63a6-8d5c-478f-d9cd-133879e1362b"
      },
      "source": [
        "len(test)"
      ],
      "execution_count": 57,
      "outputs": [
        {
          "output_type": "execute_result",
          "data": {
            "text/plain": [
              "100000"
            ]
          },
          "metadata": {
            "tags": []
          },
          "execution_count": 57
        }
      ]
    },
    {
      "cell_type": "code",
      "metadata": {
        "id": "KOpWTE4Hh0Qx",
        "colab_type": "code",
        "colab": {
          "base_uri": "https://localhost:8080/",
          "height": 442
        },
        "outputId": "e4584271-a169-45fe-d787-5741c88e7c2a"
      },
      "source": [
        "test.info()"
      ],
      "execution_count": 58,
      "outputs": [
        {
          "output_type": "stream",
          "text": [
            "<class 'pandas.core.frame.DataFrame'>\n",
            "RangeIndex: 100000 entries, 0 to 99999\n",
            "Data columns (total 18 columns):\n",
            " #   Column          Non-Null Count   Dtype  \n",
            "---  ------          --------------   -----  \n",
            " 0   user_id         100000 non-null  object \n",
            " 1   REGION          60707 non-null   object \n",
            " 2   TENURE          100000 non-null  object \n",
            " 3   MONTANT         65049 non-null   float64\n",
            " 4   FREQUENCE_RECH  65049 non-null   float64\n",
            " 5   REVENUE         66510 non-null   float64\n",
            " 6   ARPU_SEGMENT    66510 non-null   float64\n",
            " 7   FREQUENCE       66510 non-null   float64\n",
            " 8   DATA_VOLUME     50662 non-null   float64\n",
            " 9   ON_NET          63617 non-null   float64\n",
            " 10  ORANGE          58800 non-null   float64\n",
            " 11  TIGO            40212 non-null   float64\n",
            " 12  ZONE1           7680 non-null    float64\n",
            " 13  ZONE2           6422 non-null    float64\n",
            " 14  MRG             100000 non-null  object \n",
            " 15  REGULARITY      100000 non-null  int64  \n",
            " 16  TOP_PACK        58297 non-null   object \n",
            " 17  FREQ_TOP_PACK   58297 non-null   float64\n",
            "dtypes: float64(12), int64(1), object(5)\n",
            "memory usage: 13.7+ MB\n"
          ],
          "name": "stdout"
        }
      ]
    },
    {
      "cell_type": "code",
      "metadata": {
        "id": "15DM_EHXYsrh",
        "colab_type": "code",
        "colab": {
          "base_uri": "https://localhost:8080/",
          "height": 340
        },
        "outputId": "ba2ebf52-3cde-4540-e7dc-8c28e81af892"
      },
      "source": [
        "test.isnull().sum()"
      ],
      "execution_count": 59,
      "outputs": [
        {
          "output_type": "execute_result",
          "data": {
            "text/plain": [
              "user_id               0\n",
              "REGION            39293\n",
              "TENURE                0\n",
              "MONTANT           34951\n",
              "FREQUENCE_RECH    34951\n",
              "REVENUE           33490\n",
              "ARPU_SEGMENT      33490\n",
              "FREQUENCE         33490\n",
              "DATA_VOLUME       49338\n",
              "ON_NET            36383\n",
              "ORANGE            41200\n",
              "TIGO              59788\n",
              "ZONE1             92320\n",
              "ZONE2             93578\n",
              "MRG                   0\n",
              "REGULARITY            0\n",
              "TOP_PACK          41703\n",
              "FREQ_TOP_PACK     41703\n",
              "dtype: int64"
            ]
          },
          "metadata": {
            "tags": []
          },
          "execution_count": 59
        }
      ]
    },
    {
      "cell_type": "code",
      "metadata": {
        "id": "3vJwGi_2bWNf",
        "colab_type": "code",
        "colab": {
          "base_uri": "https://localhost:8080/",
          "height": 272
        },
        "outputId": "03de8dcb-d3ef-4320-eef2-7550e8633621"
      },
      "source": [
        "test[\"REGION\"].value_counts()"
      ],
      "execution_count": 60,
      "outputs": [
        {
          "output_type": "execute_result",
          "data": {
            "text/plain": [
              "DAKAR          23998\n",
              "THIES           8301\n",
              "SAINT-LOUIS     5657\n",
              "LOUGA           4616\n",
              "KAOLACK         4542\n",
              "DIOURBEL        3041\n",
              "TAMBACOUNDA     2596\n",
              "KAFFRINE        1940\n",
              "KOLDA           1775\n",
              "FATICK          1656\n",
              "MATAM           1411\n",
              "ZIGUINCHOR      1006\n",
              "SEDHIOU          126\n",
              "KEDOUGOU          42\n",
              "Name: REGION, dtype: int64"
            ]
          },
          "metadata": {
            "tags": []
          },
          "execution_count": 60
        }
      ]
    },
    {
      "cell_type": "code",
      "metadata": {
        "id": "zgCsQv2PfoZX",
        "colab_type": "code",
        "colab": {
          "base_uri": "https://localhost:8080/",
          "height": 68
        },
        "outputId": "491c8a01-7301-48d7-a028-cd0350f9e858"
      },
      "source": [
        "test[\"REGION\"].unique()"
      ],
      "execution_count": 61,
      "outputs": [
        {
          "output_type": "execute_result",
          "data": {
            "text/plain": [
              "array([nan, 'DAKAR', 'KAFFRINE', 'KAOLACK', 'DIOURBEL', 'KOLDA', 'THIES',\n",
              "       'TAMBACOUNDA', 'LOUGA', 'SAINT-LOUIS', 'MATAM', 'FATICK',\n",
              "       'ZIGUINCHOR', 'KEDOUGOU', 'SEDHIOU'], dtype=object)"
            ]
          },
          "metadata": {
            "tags": []
          },
          "execution_count": 61
        }
      ]
    },
    {
      "cell_type": "code",
      "metadata": {
        "id": "6qSP2UdQav9Y",
        "colab_type": "code",
        "colab": {}
      },
      "source": [
        "\n",
        "test = test.drop([\"ZONE1\",\"ZONE2\",\"MRG\"],axis=1)\n"
      ],
      "execution_count": 62,
      "outputs": []
    },
    {
      "cell_type": "code",
      "metadata": {
        "id": "jUqa3IrYfeXR",
        "colab_type": "code",
        "colab": {
          "base_uri": "https://localhost:8080/",
          "height": 272
        },
        "outputId": "a1856304-ec8c-461a-8459-ee06b9301a2a"
      },
      "source": [
        "test[\"REGION\"].value_counts()"
      ],
      "execution_count": 63,
      "outputs": [
        {
          "output_type": "execute_result",
          "data": {
            "text/plain": [
              "DAKAR          23998\n",
              "THIES           8301\n",
              "SAINT-LOUIS     5657\n",
              "LOUGA           4616\n",
              "KAOLACK         4542\n",
              "DIOURBEL        3041\n",
              "TAMBACOUNDA     2596\n",
              "KAFFRINE        1940\n",
              "KOLDA           1775\n",
              "FATICK          1656\n",
              "MATAM           1411\n",
              "ZIGUINCHOR      1006\n",
              "SEDHIOU          126\n",
              "KEDOUGOU          42\n",
              "Name: REGION, dtype: int64"
            ]
          },
          "metadata": {
            "tags": []
          },
          "execution_count": 63
        }
      ]
    },
    {
      "cell_type": "code",
      "metadata": {
        "id": "zTIxDH-5fym4",
        "colab_type": "code",
        "colab": {}
      },
      "source": [
        "ts=test[\"REGION\"][test[\"REGION\"].notnull()]\n",
        "\n",
        "test[\"REGION\"].fillna(ts.mode()[0],inplace=True)"
      ],
      "execution_count": 64,
      "outputs": []
    },
    {
      "cell_type": "code",
      "metadata": {
        "id": "4PNCD5HSf4Zz",
        "colab_type": "code",
        "colab": {
          "base_uri": "https://localhost:8080/",
          "height": 272
        },
        "outputId": "92caddc8-cda5-45be-b245-897de0f8a4de"
      },
      "source": [
        "test[\"REGION\"].value_counts()"
      ],
      "execution_count": 65,
      "outputs": [
        {
          "output_type": "execute_result",
          "data": {
            "text/plain": [
              "DAKAR          63291\n",
              "THIES           8301\n",
              "SAINT-LOUIS     5657\n",
              "LOUGA           4616\n",
              "KAOLACK         4542\n",
              "DIOURBEL        3041\n",
              "TAMBACOUNDA     2596\n",
              "KAFFRINE        1940\n",
              "KOLDA           1775\n",
              "FATICK          1656\n",
              "MATAM           1411\n",
              "ZIGUINCHOR      1006\n",
              "SEDHIOU          126\n",
              "KEDOUGOU          42\n",
              "Name: REGION, dtype: int64"
            ]
          },
          "metadata": {
            "tags": []
          },
          "execution_count": 65
        }
      ]
    },
    {
      "cell_type": "code",
      "metadata": {
        "id": "bkz67PKzf94a",
        "colab_type": "code",
        "colab": {
          "base_uri": "https://localhost:8080/",
          "height": 68
        },
        "outputId": "508b480a-662f-4f3c-b3df-bd818f36f2f2"
      },
      "source": [
        "test[\"REGION\"].unique()"
      ],
      "execution_count": 66,
      "outputs": [
        {
          "output_type": "execute_result",
          "data": {
            "text/plain": [
              "array(['DAKAR', 'KAFFRINE', 'KAOLACK', 'DIOURBEL', 'KOLDA', 'THIES',\n",
              "       'TAMBACOUNDA', 'LOUGA', 'SAINT-LOUIS', 'MATAM', 'FATICK',\n",
              "       'ZIGUINCHOR', 'KEDOUGOU', 'SEDHIOU'], dtype=object)"
            ]
          },
          "metadata": {
            "tags": []
          },
          "execution_count": 66
        }
      ]
    },
    {
      "cell_type": "code",
      "metadata": {
        "id": "iJZsQ-FAfVB3",
        "colab_type": "code",
        "colab": {
          "base_uri": "https://localhost:8080/",
          "height": 221
        },
        "outputId": "c3bf2295-19ff-4d28-9b22-63065c082fe9"
      },
      "source": [
        "test.fillna(test[\"TIGO\"].mean(),inplace=True)\n",
        "test.fillna(test[\"REGION\"].mode(),inplace=True)\n",
        "test.fillna(test[\"DATA_VOLUME\"].mean(),inplace=True)\n",
        "test.fillna(test[\"ON_NET\"].mean(),inplace=True)\n",
        "test.fillna(test[\"ORANGE\"].mean(),inplace=True)\n",
        "test.fillna(test[\"TOP_PACK\"].mode(),inplace=True)\n",
        "test.fillna(test[\"FREQ_TOP_PACK\"].mean(),inplace=True)\n",
        "test.fillna(test[\"MONTANT\"].mean(),inplace=True)\n",
        "test.fillna(test[\"FREQUENCE_RECH\"].mean(),inplace=True)\n",
        "\n",
        "ts"
      ],
      "execution_count": 67,
      "outputs": [
        {
          "output_type": "execute_result",
          "data": {
            "text/plain": [
              "3              DAKAR\n",
              "4              DAKAR\n",
              "6           KAFFRINE\n",
              "8              DAKAR\n",
              "10             DAKAR\n",
              "            ...     \n",
              "99994        KAOLACK\n",
              "99995          LOUGA\n",
              "99996    TAMBACOUNDA\n",
              "99998          THIES\n",
              "99999          MATAM\n",
              "Name: REGION, Length: 60707, dtype: object"
            ]
          },
          "metadata": {
            "tags": []
          },
          "execution_count": 67
        }
      ]
    },
    {
      "cell_type": "code",
      "metadata": {
        "id": "9i12mg67caWU",
        "colab_type": "code",
        "colab": {}
      },
      "source": [
        "\n",
        "#converting tenure categorical to numerical\n",
        "tenure = LabelEncoder()\n",
        "test[\"TENURE\"] = tenure.fit_transform(test[\"TENURE\"])\n",
        "#encoding region\n",
        "region = LabelEncoder()\n",
        "test[\"REGION\"] = region.fit_transform(test[\"REGION\"])\n",
        "\n",
        "#top pack\n",
        "top_pack = LabelEncoder()\n",
        "test[\"TOP_PACK\"] = top_pack.fit_transform(test[\"TOP_PACK\"].astype(str))\n",
        "\n"
      ],
      "execution_count": 68,
      "outputs": []
    },
    {
      "cell_type": "code",
      "metadata": {
        "id": "34kb1cYKdv7J",
        "colab_type": "code",
        "colab": {}
      },
      "source": [
        "\n",
        "categorical = test[[\"REGION\",\"TENURE\",\"TOP_PACK\"]]\n",
        "numerical = test.drop([\"REGION\",\"TENURE\",\"TOP_PACK\",\"user_id\"],axis=1)\n"
      ],
      "execution_count": 69,
      "outputs": []
    },
    {
      "cell_type": "code",
      "metadata": {
        "id": "N0Ab2vMciCNX",
        "colab_type": "code",
        "colab": {
          "base_uri": "https://localhost:8080/",
          "height": 323
        },
        "outputId": "300adc85-fec1-4110-d748-a4432968a0e0"
      },
      "source": [
        "numerical.info()"
      ],
      "execution_count": 70,
      "outputs": [
        {
          "output_type": "stream",
          "text": [
            "<class 'pandas.core.frame.DataFrame'>\n",
            "RangeIndex: 100000 entries, 0 to 99999\n",
            "Data columns (total 11 columns):\n",
            " #   Column          Non-Null Count   Dtype  \n",
            "---  ------          --------------   -----  \n",
            " 0   MONTANT         100000 non-null  float64\n",
            " 1   FREQUENCE_RECH  100000 non-null  float64\n",
            " 2   REVENUE         100000 non-null  float64\n",
            " 3   ARPU_SEGMENT    100000 non-null  float64\n",
            " 4   FREQUENCE       100000 non-null  float64\n",
            " 5   DATA_VOLUME     100000 non-null  float64\n",
            " 6   ON_NET          100000 non-null  float64\n",
            " 7   ORANGE          100000 non-null  float64\n",
            " 8   TIGO            100000 non-null  float64\n",
            " 9   REGULARITY      100000 non-null  int64  \n",
            " 10  FREQ_TOP_PACK   100000 non-null  float64\n",
            "dtypes: float64(10), int64(1)\n",
            "memory usage: 8.4 MB\n"
          ],
          "name": "stdout"
        }
      ]
    },
    {
      "cell_type": "code",
      "metadata": {
        "id": "R9AfW6_dfE-X",
        "colab_type": "code",
        "colab": {}
      },
      "source": [
        "\n",
        "scaler = MinMaxScaler()\n",
        "test_feature = scaler.fit_transform(numerical)\n",
        "test_feature = pd.DataFrame(test_feature, columns=numerical.columns)\n",
        "test_feature[\"REGION\"] = categorical[\"REGION\"]\n",
        "test_feature[\"TENURE\"] = categorical[\"TENURE\"]\n",
        "test_feature[\"TOP_PACK\"] = categorical[\"REGION\"]\n",
        "\n",
        "  "
      ],
      "execution_count": 71,
      "outputs": []
    },
    {
      "cell_type": "code",
      "metadata": {
        "id": "AVGJS67efmUJ",
        "colab_type": "code",
        "colab": {
          "base_uri": "https://localhost:8080/",
          "height": 85
        },
        "outputId": "f9032957-6603-4278-800a-0d43aec1812a"
      },
      "source": [
        "# clean_test = clean_data(test)\n",
        "# encoded= encode_col(clean_test)\n",
        "# cat_num = split_cat_num(encoded)[0]\n",
        "# test_feature = scale_data(cat_num[0],cat_num[1])\n",
        "test_feature.columns\n",
        "\n"
      ],
      "execution_count": 72,
      "outputs": [
        {
          "output_type": "execute_result",
          "data": {
            "text/plain": [
              "Index(['MONTANT', 'FREQUENCE_RECH', 'REVENUE', 'ARPU_SEGMENT', 'FREQUENCE',\n",
              "       'DATA_VOLUME', 'ON_NET', 'ORANGE', 'TIGO', 'REGULARITY',\n",
              "       'FREQ_TOP_PACK', 'REGION', 'TENURE', 'TOP_PACK'],\n",
              "      dtype='object')"
            ]
          },
          "metadata": {
            "tags": []
          },
          "execution_count": 72
        }
      ]
    },
    {
      "cell_type": "code",
      "metadata": {
        "id": "ak5Wx0t8f_4q",
        "colab_type": "code",
        "colab": {
          "base_uri": "https://localhost:8080/",
          "height": 34
        },
        "outputId": "38e36385-dfed-4969-d42d-c5e2674bee2e"
      },
      "source": [
        "#predicting\n",
        "\n",
        "test_sgd_pred = sgd.predict(test_feature)\n",
        "test_sgd_pred\n",
        "\n"
      ],
      "execution_count": 73,
      "outputs": [
        {
          "output_type": "execute_result",
          "data": {
            "text/plain": [
              "array([1, 0, 0, ..., 0, 0, 0])"
            ]
          },
          "metadata": {
            "tags": []
          },
          "execution_count": 73
        }
      ]
    },
    {
      "cell_type": "code",
      "metadata": {
        "id": "WrjFKE2La7qN",
        "colab_type": "code",
        "colab": {
          "base_uri": "https://localhost:8080/",
          "height": 34
        },
        "outputId": "e75de5ff-e081-4e51-c3e2-90384691f181"
      },
      "source": [
        "len(test_sgd_pred)"
      ],
      "execution_count": 75,
      "outputs": [
        {
          "output_type": "execute_result",
          "data": {
            "text/plain": [
              "100000"
            ]
          },
          "metadata": {
            "tags": []
          },
          "execution_count": 75
        }
      ]
    },
    {
      "cell_type": "code",
      "metadata": {
        "id": "CmNXvTrndp8I",
        "colab_type": "code",
        "colab": {}
      },
      "source": [
        "churn = pd.Series(test_sgd_pred,name=\"CHURN\")"
      ],
      "execution_count": 76,
      "outputs": []
    },
    {
      "cell_type": "code",
      "metadata": {
        "id": "GvmK8Dujeg1W",
        "colab_type": "code",
        "colab": {}
      },
      "source": [
        "result = pd.concat([test[\"user_id\"],churn],axis=1)"
      ],
      "execution_count": 78,
      "outputs": []
    },
    {
      "cell_type": "code",
      "metadata": {
        "id": "wqZ1CvZsfaIr",
        "colab_type": "code",
        "colab": {
          "base_uri": "https://localhost:8080/",
          "height": 419
        },
        "outputId": "44c62eed-b70c-43ed-d1e0-7263f8c1e6d4"
      },
      "source": [
        "result"
      ],
      "execution_count": 79,
      "outputs": [
        {
          "output_type": "execute_result",
          "data": {
            "text/html": [
              "<div>\n",
              "<style scoped>\n",
              "    .dataframe tbody tr th:only-of-type {\n",
              "        vertical-align: middle;\n",
              "    }\n",
              "\n",
              "    .dataframe tbody tr th {\n",
              "        vertical-align: top;\n",
              "    }\n",
              "\n",
              "    .dataframe thead th {\n",
              "        text-align: right;\n",
              "    }\n",
              "</style>\n",
              "<table border=\"1\" class=\"dataframe\">\n",
              "  <thead>\n",
              "    <tr style=\"text-align: right;\">\n",
              "      <th></th>\n",
              "      <th>user_id</th>\n",
              "      <th>CHURN</th>\n",
              "    </tr>\n",
              "  </thead>\n",
              "  <tbody>\n",
              "    <tr>\n",
              "      <th>0</th>\n",
              "      <td>af900d87e73b7ff6509d2203df4704a98aa5f2a6</td>\n",
              "      <td>1</td>\n",
              "    </tr>\n",
              "    <tr>\n",
              "      <th>1</th>\n",
              "      <td>5335efd940280b82143272275637d1e65d37eadb</td>\n",
              "      <td>0</td>\n",
              "    </tr>\n",
              "    <tr>\n",
              "      <th>2</th>\n",
              "      <td>a581f4fa08677c26f83f643248c667e241043086</td>\n",
              "      <td>0</td>\n",
              "    </tr>\n",
              "    <tr>\n",
              "      <th>3</th>\n",
              "      <td>64f67177d0775262b8087a9e2e3b8061b6324ae6</td>\n",
              "      <td>0</td>\n",
              "    </tr>\n",
              "    <tr>\n",
              "      <th>4</th>\n",
              "      <td>0d6009a4594c4be22449b8d9cc01a0bcea98faea</td>\n",
              "      <td>0</td>\n",
              "    </tr>\n",
              "    <tr>\n",
              "      <th>...</th>\n",
              "      <td>...</td>\n",
              "      <td>...</td>\n",
              "    </tr>\n",
              "    <tr>\n",
              "      <th>99995</th>\n",
              "      <td>c6bcb3336795a18eb6c0bc7e19078a0704ef4d7e</td>\n",
              "      <td>0</td>\n",
              "    </tr>\n",
              "    <tr>\n",
              "      <th>99996</th>\n",
              "      <td>a44b4e44dc70115ed5bf971ebb4193dd536e87f0</td>\n",
              "      <td>0</td>\n",
              "    </tr>\n",
              "    <tr>\n",
              "      <th>99997</th>\n",
              "      <td>a2f84faffbc995bd0e2d726fa4ffdb93f11646ed</td>\n",
              "      <td>0</td>\n",
              "    </tr>\n",
              "    <tr>\n",
              "      <th>99998</th>\n",
              "      <td>afa76e894df4201fc77eb714de7d1f262299611a</td>\n",
              "      <td>0</td>\n",
              "    </tr>\n",
              "    <tr>\n",
              "      <th>99999</th>\n",
              "      <td>c08a2d84b87c1f5d4bb318114f508b77aa8e2663</td>\n",
              "      <td>0</td>\n",
              "    </tr>\n",
              "  </tbody>\n",
              "</table>\n",
              "<p>100000 rows × 2 columns</p>\n",
              "</div>"
            ],
            "text/plain": [
              "                                        user_id  CHURN\n",
              "0      af900d87e73b7ff6509d2203df4704a98aa5f2a6      1\n",
              "1      5335efd940280b82143272275637d1e65d37eadb      0\n",
              "2      a581f4fa08677c26f83f643248c667e241043086      0\n",
              "3      64f67177d0775262b8087a9e2e3b8061b6324ae6      0\n",
              "4      0d6009a4594c4be22449b8d9cc01a0bcea98faea      0\n",
              "...                                         ...    ...\n",
              "99995  c6bcb3336795a18eb6c0bc7e19078a0704ef4d7e      0\n",
              "99996  a44b4e44dc70115ed5bf971ebb4193dd536e87f0      0\n",
              "99997  a2f84faffbc995bd0e2d726fa4ffdb93f11646ed      0\n",
              "99998  afa76e894df4201fc77eb714de7d1f262299611a      0\n",
              "99999  c08a2d84b87c1f5d4bb318114f508b77aa8e2663      0\n",
              "\n",
              "[100000 rows x 2 columns]"
            ]
          },
          "metadata": {
            "tags": []
          },
          "execution_count": 79
        }
      ]
    },
    {
      "cell_type": "code",
      "metadata": {
        "id": "zqAFylGhiAy2",
        "colab_type": "code",
        "colab": {
          "base_uri": "https://localhost:8080/",
          "height": 122
        },
        "outputId": "3d3645fa-7a7c-4a05-b0c1-9a4f4f5d9562"
      },
      "source": [
        "from google.colab import drive\n",
        "drive.mount('drive')\n"
      ],
      "execution_count": 82,
      "outputs": [
        {
          "output_type": "stream",
          "text": [
            "Go to this URL in a browser: https://accounts.google.com/o/oauth2/auth?client_id=947318989803-6bn6qk8qdgf4n4g3pfee6491hc0brc4i.apps.googleusercontent.com&redirect_uri=urn%3aietf%3awg%3aoauth%3a2.0%3aoob&scope=email%20https%3a%2f%2fwww.googleapis.com%2fauth%2fdocs.test%20https%3a%2f%2fwww.googleapis.com%2fauth%2fdrive%20https%3a%2f%2fwww.googleapis.com%2fauth%2fdrive.photos.readonly%20https%3a%2f%2fwww.googleapis.com%2fauth%2fpeopleapi.readonly&response_type=code\n",
            "\n",
            "Enter your authorization code:\n",
            "··········\n",
            "Mounted at drive\n"
          ],
          "name": "stdout"
        }
      ]
    },
    {
      "cell_type": "code",
      "metadata": {
        "id": "rztRRsGkfGpg",
        "colab_type": "code",
        "colab": {}
      },
      "source": [
        "result.to_csv(\"drive/My Drive/adebowaleakande_submission.csv\",index=False)"
      ],
      "execution_count": 85,
      "outputs": []
    }
  ]
}